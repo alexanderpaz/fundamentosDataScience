{
 "cells": [
  {
   "cell_type": "markdown",
   "metadata": {},
   "source": [
    "# Introducción a las Declaraciones Condicionales\n",
    "\n",
    "Las declaraciones condicionales permiten que un programa ejecute diferentes acciones según si una condición es verdadera o falsa. En Python, utilizamos las palabras clave `if`, `elif` y `else` para controlar el flujo de ejecución basado en condiciones.\n",
    "\n",
    "Veamos un ejemplo básico:"
   ]
  },
  {
   "cell_type": "code",
   "execution_count": null,
   "metadata": {},
   "outputs": [],
   "source": [
    "# Ejemplo de Declaración Condicional\n",
    "edad = 18\n",
    "if edad >= 18:\n",
    "    print(\"Eres mayor de edad.\")\n",
    "else:\n",
    "    print(\"No eres mayor de edad.\")\n"
   ]
  },
  {
   "cell_type": "markdown",
   "metadata": {},
   "source": [
    "# Uso de `if`, `elif`, y `else`\n",
    "\n",
    "- `if`: Evalúa si una condición es verdadera.\n",
    "- `elif`: Se usa para verificar múltiples condiciones, después del `if`.\n",
    "- `else`: Captura cualquier caso que no haya sido capturado por `if` y `elif`.\n",
    "\n",
    "Escribe un programa que determine la clasificación de una película basada en la edad."
   ]
  },
  {
   "cell_type": "code",
   "execution_count": null,
   "metadata": {},
   "outputs": [],
   "source": [
    "# Clasificación de películas por edad\n",
    "edad = 13\n",
    "if edad < 13:\n",
    "    print(\"Película para niños\")\n",
    "elif edad < 18:\n",
    "    print(\"Película para adolescentes\")\n",
    "else:\n",
    "    print(\"Película para adultos\")\n"
   ]
  },
  {
   "cell_type": "markdown",
   "metadata": {},
   "source": [
    "# Operadores de Comparación\n",
    "\n",
    "Los operadores de comparación se utilizan para comparar valores:\n",
    "\n",
    "- `==`: Igual a\n",
    "- `!=`: Diferente de\n",
    "- `<`: Menor que\n",
    "- `>`: Mayor que\n",
    "- `<=`: Menor o igual que\n",
    "- `>=`: Mayor o igual que\n",
    "\n",
    "Ejemplo: Comparando números"
   ]
  },
  {
   "cell_type": "code",
   "execution_count": null,
   "metadata": {},
   "outputs": [],
   "source": [
    "# Ejemplo de Comparación\n",
    "numero1 = 10\n",
    "numero2 = 20\n",
    "if numero1 < numero2:\n",
    "    print(\"numero1 es menor que numero2\")"
   ]
  },
  {
   "cell_type": "markdown",
   "metadata": {},
   "source": [
    "# Ejercicios Prácticos\n",
    "\n",
    "1. Escribe un programa que determine si un número es positivo, negativo o cero.\n",
    "\n",
    "2. Escribe un programa que convierta una puntuación (0 - 100) en una calificación (A, B, C, D, F).\n",
    "\n"
   ]
  },
  {
   "cell_type": "code",
   "execution_count": null,
   "metadata": {},
   "outputs": [],
   "source": [
    "# Espacio para escribir el ejercicio 1\n",
    "\n"
   ]
  },
  {
   "cell_type": "code",
   "execution_count": null,
   "metadata": {},
   "outputs": [],
   "source": [
    "# Espacio para escribir el ejercicio 2\n",
    "\n"
   ]
  },
  {
   "cell_type": "markdown",
   "metadata": {},
   "source": [
    "# Anidación de Declaraciones Condicionales\n",
    "\n",
    "Puedes anidar declaraciones condicionales dentro de otras. Esto significa que puedes tener una instrucción `if`/`elif`/`else` dentro de otra instrucción `if`/`elif`/`else`.\n",
    "\n",
    "Ejemplo: Combinando condiciones\n"
   ]
  },
  {
   "cell_type": "code",
   "execution_count": null,
   "metadata": {},
   "outputs": [],
   "source": [
    "# Ejemplo de Anidación\n",
    "edad = 20\n",
    "tiene_entrada = True\n",
    "if edad >= 18:\n",
    "    if tiene_entrada:\n",
    "        print(\"Bienvenido al concierto\")\n",
    "    else:\n",
    "        print(\"Necesitas una entrada para entrar\")\n",
    "else:\n",
    "    print(\"No tienes la edad suficiente para entrar\")"
   ]
  },
  {
   "cell_type": "markdown",
   "metadata": {},
   "source": [
    "# Resumen\n",
    "\n",
    "En este cuaderno, has aprendido sobre las declaraciones condicionales en Python. Hemos visto cómo utilizar `if`, `elif`, y `else` para tomar decisiones basadas en diferentes condiciones, y también cómo anidar estas declaraciones para comprobar condiciones más complejas.\n",
    "\n",
    "**En el próximo cuaderno**, exploraremos las estructuras de control iterativas, comenzando con los bucles `while` y `for`.\n"
   ]
  },
  {
   "cell_type": "markdown",
   "metadata": {},
   "source": [
    "---"
   ]
  },
  {
   "cell_type": "markdown",
   "metadata": {},
   "source": [
    "# Ejercicios Extra"
   ]
  },
  {
   "cell_type": "markdown",
   "metadata": {},
   "source": [
    "# Ejercicio: Calculadora Básica\n",
    "\n",
    "Escribe un programa que actúe como una calculadora básica. Debe pedir al usuario ingresar dos números y una operación a realizar entre ellos (suma, resta, multiplicación, división). Luego, realiza la operación e imprime el resultado.\n",
    "\n",
    "Puntos bonus: Asegúrate de manejar la división por cero mostrando un mensaje de error."
   ]
  },
  {
   "cell_type": "code",
   "execution_count": null,
   "metadata": {},
   "outputs": [],
   "source": [
    "# Escribe tu código aquí\n",
    "numero1 = float(input(\"Ingresa el primer número: \"))\n",
    "numero2 = float(input(\"Ingresa el segundo número: \"))\n",
    "operacion = input(\"Ingresa la operación (suma, resta, multiplicación, división): \")\n",
    "# Realiza la operación\n"
   ]
  },
  {
   "cell_type": "markdown",
   "metadata": {},
   "source": [
    "# Ejercicio: Tarifa de Transporte\n",
    "\n",
    "Una ciudad cobra diferentes tarifas de transporte público dependiendo de la edad de la persona. Los niños menores de 5 años viajan gratis, los jóvenes entre 5 y 18 años pagan una tarifa reducida, y los adultos de 19 años en adelante pagan tarifa completa.\n",
    "\n",
    "Escribe un programa que pida la edad del usuario y muestre el costo del boleto.\n"
   ]
  },
  {
   "cell_type": "code",
   "execution_count": null,
   "metadata": {},
   "outputs": [],
   "source": [
    "# Escribe tu código aquí\n",
    "edad = int(input(\"Ingresa tu edad: \"))\n",
    "# Determina y muestra el costo del boleto\n"
   ]
  },
  {
   "cell_type": "markdown",
   "metadata": {},
   "source": [
    "# Ejercicio: Calculadora de Cambio de Soles Peruanos\n",
    "\n",
    "Escribe un programa que convierta una cantidad menor a 100 soles peruanos en billetes de 50, 20, 10 y monedas de 5, 1, 0.5, 0.2, 0.1 soles. El objetivo es utilizar la menor cantidad de billetes y monedas posible.\n",
    "\n",
    "Por ejemplo, si la cantidad es 87 soles, el programa debe indicar 1 billete de 50 soles, 1 billete de 20 soles, 1 billete de 10 soles, 1 moneda de 5 soles y 2 monedas de 1 sol.\n"
   ]
  },
  {
   "cell_type": "code",
   "execution_count": null,
   "metadata": {},
   "outputs": [],
   "source": [
    "# Escribe tu código aquí\n",
    "cantidad = float(input(\"Ingresa la cantidad en soles (menos de 100): \"))\n",
    "# Calcula y muestra los billetes y monedas necesarios\n"
   ]
  }
 ],
 "metadata": {
  "language_info": {
   "name": "python"
  }
 },
 "nbformat": 4,
 "nbformat_minor": 2
}
