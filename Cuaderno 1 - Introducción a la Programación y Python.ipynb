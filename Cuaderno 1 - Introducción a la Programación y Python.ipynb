{
 "cells": [
  {
   "cell_type": "markdown",
   "metadata": {},
   "source": [
    "# ¿Qué es la Programación?\n",
    "\n",
    "La programación es el proceso de diseñar y construir un programa informático para realizar una tarea específica. Al igual que escribimos una receta para hacer un pastel, escribimos instrucciones para que la computadora realice una tarea. Estas instrucciones son conocidas como algoritmos.\n"
   ]
  },
  {
   "cell_type": "markdown",
   "metadata": {},
   "source": [
    "# Introducción a Python\n",
    "\n",
    "Python es un lenguaje de programación de alto nivel, interpretado y de propósito general. Fue creado por Guido van Rossum y lanzado por primera vez en 1991. Python es conocido por su facilidad de aprendizaje y su amplia aplicación en diversas áreas, desde desarrollo web hasta ciencia de datos.\n"
   ]
  },
  {
   "cell_type": "markdown",
   "metadata": {},
   "source": [
    "# Instalación y Configuración\n",
    "\n",
    "Para comenzar a programar en Python, primero necesitas instalar Python y Jupyter Notebook en tu computadora. Puedes descargar Python desde [python.org](https://www.python.org/downloads/) y seguir las instrucciones para tu sistema operativo.\n",
    "\n",
    "Una vez instalado Python, puedes instalar Jupyter Notebook utilizando pip:\n",
    "\n",
    "```bash\n",
    "pip install notebook\n",
    "```"
   ]
  },
  {
   "cell_type": "markdown",
   "metadata": {},
   "source": [
    "# Primeros Pasos en Jupyter Notebook\n",
    "\n",
    "Jupyter Notebook es una aplicación web que permite crear y compartir documentos que contienen código en vivo, ecuaciones, visualizaciones y texto narrativo. Aquí hay algunos conceptos básicos:\n",
    "\n",
    "- **Celdas**: Pueden contener texto o código.\n",
    "- **Ejecución de Celdas**: Puedes ejecutar una celda con código presionando `Shift + Enter`.\n",
    "\n",
    "Intenta ejecutar la siguiente celda de código:\n"
   ]
  },
  {
   "cell_type": "markdown",
   "metadata": {},
   "source": [
    "# Ejemplo de Código\n",
    "print(\"Hola, mundo\")"
   ]
  },
  {
   "cell_type": "markdown",
   "metadata": {},
   "source": [
    "# Recursos Adicionales y Resumen\n",
    "\n",
    "¡Felicidades por completar tu primer cuaderno de Jupyter con Python!\n",
    "\n",
    "**Recursos adicionales:**\n",
    "- [Documentación Oficial de Python](https://docs.python.org/3/)\n",
    "- [Tutorial de Python en W3Schools](https://www.w3schools.com/python/)\n",
    "\n",
    "En este cuaderno, has aprendido qué es la programación, qué es Python, cómo instalar Python y Jupyter Notebook, y cómo ejecutar tu primer programa en Python. En el siguiente cuaderno, profundizaremos en variables y tipos de datos.\n"
   ]
  }
 ],
 "metadata": {
  "language_info": {
   "name": "python"
  }
 },
 "nbformat": 4,
 "nbformat_minor": 2
}
