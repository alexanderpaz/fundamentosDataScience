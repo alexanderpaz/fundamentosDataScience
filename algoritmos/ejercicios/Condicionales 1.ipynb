{
 "cells": [
  {
   "cell_type": "code",
   "execution_count": null,
   "metadata": {},
   "outputs": [],
   "source": [
    "import ipytest\n",
    "ipytest.autoconfig()"
   ]
  },
  {
   "cell_type": "markdown",
   "metadata": {},
   "source": [
    "# Problema\n",
    "\n",
    "Completar el códidgo de la función indicada de tal manera que ésta reciba un entero \"n\" y devuelva las cadenas \"inusual\" o \"no inusual\" según las siguientes condiciones:\n",
    "\n",
    "- Si \"n\" es impar, devolver \"inusual\"\n",
    "- Si \"n\" es par, pero es un número entre 2 y 5 (inclusive), devolver \"no inusual\"\n",
    "- Si \"n\" es par y es un número entre 6 y 20 (inclusive), devolver \"inusual\"\n",
    "- Si \"n\" es par y es mayor que 20, devolver \"no inusual\"\n",
    "\n",
    "## Entradas\n",
    "\n",
    "- \"n\" es un número entero\n",
    "\n",
    "## Salidas\n",
    "\n",
    "- La función devuelve una de dos cadenas: \"inusual\" o \"no inusual\"\n",
    "- Respetar las cadenas (todo en minúsculas) y no cambiarlas"
   ]
  },
  {
   "cell_type": "code",
   "execution_count": null,
   "metadata": {},
   "outputs": [],
   "source": [
    "def check_inusual (n):\n",
    "    # completa aquí con tu código recuerda eliminar la linea \"raise NotImplementedError\" cuando termines\n",
    "    # no olvides escribir el return de la función\n",
    "    raise NotImplementedError"
   ]
  },
  {
   "cell_type": "code",
   "execution_count": null,
   "metadata": {},
   "outputs": [],
   "source": [
    "%%ipytest\n",
    "\n",
    "# No modifiques esta parte!\n",
    "# Este código te ayudará a probar tu función, simplemente ejecuta la celda y verás los resultados de tus pruebas\n",
    "\n",
    "def test_check_inusual():\n",
    "    assert check_inusual(1) != NotImplementedError, \"Olvidaste implementar tu código? O recuerda eliminar la linea 'raise NotImplementedError'\"\n",
    "    assert check_inusual(1) == \"inusual\", \"1 es impar, debería ser inusual\"\n",
    "    assert check_inusual(3) == \"inusual\", \"3 es impar, debería ser inusual\"\n",
    "    assert check_inusual(4) == \"no inusual\", \"4 es par y está entre 2 y 5, debería ser no inusual\"\n",
    "    assert check_inusual(8) == \"inusual\", \"6 es par y está entre 6 y 20, debería ser inusual\"\n",
    "    assert check_inusual(22) == \"no inusual\", \"22 es par y está entre 20 y 30, debería ser no inusual\"\n",
    "    assert check_inusual(31) == \"inusual\", \"31 es impar y mayor a 20, debería ser inusual\"\n",
    "\n",
    "\n"
   ]
  }
 ],
 "metadata": {
  "kernelspec": {
   "display_name": ".venv",
   "language": "python",
   "name": "python3"
  },
  "language_info": {
   "codemirror_mode": {
    "name": "ipython",
    "version": 3
   },
   "file_extension": ".py",
   "mimetype": "text/x-python",
   "name": "python",
   "nbconvert_exporter": "python",
   "pygments_lexer": "ipython3",
   "version": "3.12.1"
  }
 },
 "nbformat": 4,
 "nbformat_minor": 2
}
