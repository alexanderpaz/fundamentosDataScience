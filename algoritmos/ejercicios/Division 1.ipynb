{
 "cells": [
  {
   "cell_type": "code",
   "execution_count": null,
   "metadata": {},
   "outputs": [],
   "source": [
    "import ipytest\n",
    "ipytest.autoconfig()"
   ]
  },
  {
   "cell_type": "markdown",
   "metadata": {},
   "source": [
    "# Problema\n",
    "\n",
    "Completar el códidgo de la función indicada de tal manera que ésta reciba dos enteros \"a\" y \"b\" y que devuelva tres valores:\n",
    "\n",
    "- La division de enteros entre ambos\n",
    "- El resto de la división de enteros\n",
    "- La división de números flotantes o decimales\n",
    "  \n",
    "## Entradas\n",
    "\n",
    "- \"a\" y \"b\" son enteros\n",
    "\n",
    "## Salidas\n",
    "\n",
    "- La función devuelve tres números: 2 enteros y 1 un flotante\n"
   ]
  },
  {
   "cell_type": "code",
   "execution_count": null,
   "metadata": {},
   "outputs": [],
   "source": [
    "def division (a, b):\n",
    "    # completa aquí con tu código recuerda eliminar la linea \"raise NotImplementedError\" cuando termines\n",
    "    # no olvides escribir el return de la función\n",
    "    raise NotImplementedError"
   ]
  },
  {
   "cell_type": "code",
   "execution_count": null,
   "metadata": {},
   "outputs": [],
   "source": [
    "%%ipytest\n",
    "\n",
    "# No modifiques esta parte!\n",
    "# Este código te ayudará a probar tu función, simplemente ejecuta la celda y verás los resultados de tus pruebas\n",
    "\n",
    "def test_division():\n",
    "    assert division(1,1) != NotImplementedError, \"No has implementado la función\"\n",
    "    \n",
    "    a, b = 5, 3\n",
    "    assert division(a, b) == (a//b, a%b, a/b), \"Test case 1 failed\"\n",
    "    \n",
    "    a, b = -2, 7\n",
    "    assert division(a, b) == (a//b, a%b, a/b), \"Test case 2 failed\"\n",
    "    \n",
    "    a, b = 0, 2\n",
    "    assert division(a, b) == (0, 0, 0), \"Test case 3 failed\"\n",
    "\n",
    "\n"
   ]
  }
 ],
 "metadata": {
  "kernelspec": {
   "display_name": ".venv",
   "language": "python",
   "name": "python3"
  },
  "language_info": {
   "codemirror_mode": {
    "name": "ipython",
    "version": 3
   },
   "file_extension": ".py",
   "mimetype": "text/x-python",
   "name": "python",
   "nbconvert_exporter": "python",
   "pygments_lexer": "ipython3",
   "version": "3.12.1"
  }
 },
 "nbformat": 4,
 "nbformat_minor": 2
}
