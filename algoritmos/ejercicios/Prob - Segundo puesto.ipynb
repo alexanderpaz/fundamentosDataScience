{
 "cells": [
  {
   "cell_type": "code",
   "execution_count": null,
   "metadata": {},
   "outputs": [],
   "source": [
    "import ipytest\n",
    "ipytest.autoconfig()"
   ]
  },
  {
   "cell_type": "markdown",
   "metadata": {},
   "source": [
    "# Problema\n",
    "\n",
    "Dada la hoja de resultados del Día del Deporte, se requiere que encuentres el puntaje que obtuvo el segundo puesto. Te darán $n$ puntajes en una lista. Encuentra cuál es el puntaje del segundo puesto y devuélvelo.\n",
    "  \n",
    "## Entradas\n",
    "\n",
    "- $A$ es una lista de enteros\n",
    "\n",
    "## Salidas\n",
    "\n",
    "- La función devuelve un entero\n",
    "\n",
    "## Restricciones\n",
    "\n",
    "- Para el arreglo $A$, cada entero $i$ de la lista cumple: $-100 <= A[i] <=100$\n",
    "- Siendo $n$ el número de elementos que tiene la lista $A$, n cumple: $2<=n<=10$\n"
   ]
  },
  {
   "cell_type": "code",
   "execution_count": null,
   "metadata": {},
   "outputs": [],
   "source": [
    "def segundoPuesto (A):\n",
    "    # completa aquí con tu código recuerda eliminar la linea \"raise NotImplementedError\" cuando termines\n",
    "    # no olvides escribir el return de la función\n",
    "    raise NotImplementedError\n"
   ]
  },
  {
   "cell_type": "code",
   "execution_count": null,
   "metadata": {},
   "outputs": [],
   "source": [
    "%%ipytest\n",
    "\n",
    "# No modifiques esta parte!\n",
    "# Este código te ayudará a probar tu función, simplemente ejecuta la celda y verás los resultados de tus pruebas\n",
    "\n",
    "class TestSegundopuesto:\n",
    "    # The function is implemented.\n",
    "    def test_function_exists(self):\n",
    "        assert segundoPuesto([]) != NotImplementedError, \"Debes implementar la función primero.\"\n",
    "\n",
    "    # The function receives a list of integers and returns the second highest value.\n",
    "    def test_second_highest_value(self):\n",
    "        A = [1, 2, 3, 4, 5]\n",
    "        assert segundoPuesto(A) == 4\n",
    "\n",
    "    # The function works correctly when the list has at least two distinct values.\n",
    "    def test_two_distinct_values(self):\n",
    "        A = [1, 2]\n",
    "        assert segundoPuesto(A) == 1\n",
    "\n",
    "    # The function works correctly when the list has repeated values.\n",
    "    def test_repeated_values(self):\n",
    "        A = [1, 2, 2, 3, 4]\n",
    "        assert segundoPuesto(A) == 3\n",
    "\n",
    "    # The function returns None when the list is empty.\n",
    "    def test_empty_list(self):\n",
    "        A = []\n",
    "        assert segundoPuesto(A) is None\n",
    "\n",
    "    # The function returns None when the list has only one value.\n",
    "    def test_single_value(self):\n",
    "        A = [1]\n",
    "        assert segundoPuesto(A) is None\n",
    "\n",
    "    # The function works correctly when the list is sorted in ascending order.\n",
    "    def test_sorted_list(self):\n",
    "        A = [1, 2, 3, 4, 5]\n",
    "        assert segundoPuesto(A) == 4\n",
    "        \n",
    "    # The function works correctly when the list is sorted in descending order.\n",
    "    def test_sorted_list_desc(self):\n",
    "        A = [5, 4, 3, 2, 1]\n",
    "        assert segundoPuesto(A) == 4\n",
    "        \n",
    "    # The function works correctly when the list has edge values (-100, 100)\n",
    "    def test_edge_values(self):\n",
    "        A = [-100, 100]\n",
    "        assert segundoPuesto(A) == -100"
   ]
  },
  {
   "cell_type": "code",
   "execution_count": null,
   "metadata": {},
   "outputs": [],
   "source": []
  }
 ],
 "metadata": {
  "kernelspec": {
   "display_name": ".venv",
   "language": "python",
   "name": "python3"
  },
  "language_info": {
   "codemirror_mode": {
    "name": "ipython",
    "version": 3
   },
   "file_extension": ".py",
   "mimetype": "text/x-python",
   "name": "python",
   "nbconvert_exporter": "python",
   "pygments_lexer": "ipython3",
   "version": "3.12.1"
  }
 },
 "nbformat": 4,
 "nbformat_minor": 2
}
