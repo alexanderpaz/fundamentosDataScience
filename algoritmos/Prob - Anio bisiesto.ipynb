{
 "cells": [
  {
   "cell_type": "code",
   "execution_count": null,
   "metadata": {},
   "outputs": [],
   "source": [
    "import ipytest\n",
    "ipytest.autoconfig()"
   ]
  },
  {
   "cell_type": "markdown",
   "metadata": {},
   "source": [
    "# Problema\n",
    "\n",
    "Implementar la función *bisiesto(anio)* que devuelve *True* o *False* según el año ingresado sea o no bisiesto. Para ello, debe cumplir las siguientes condiciones:\n",
    "\n",
    "- El año que es divisible por 4, es un año bisiesto, a menos que:\n",
    "  - El año pueda ser dividido exactamente por 100, excepto si:\n",
    "    - El año es a su vez divisible por 400. Entonces sí es un año bisiesto. \n",
    "  \n",
    "## Entradas\n",
    "\n",
    "- \"anio\" es un entero\n",
    "\n",
    "## Salidas\n",
    "\n",
    "- La función devuelve un boolean\n"
   ]
  },
  {
   "cell_type": "code",
   "execution_count": 1,
   "metadata": {},
   "outputs": [],
   "source": [
    "def bisiesto (anio):\n",
    "    # completa aquí con tu código recuerda eliminar la linea \"raise NotImplementedError\" cuando termines\n",
    "    # no olvides escribir el return de la función\n",
    "    raise NotImplementedError"
   ]
  },
  {
   "cell_type": "code",
   "execution_count": null,
   "metadata": {},
   "outputs": [],
   "source": [
    "%%ipytest\n",
    "\n",
    "# No modifiques esta parte!\n",
    "# Este código te ayudará a probar tu función, simplemente ejecuta la celda y verás los resultados de tus pruebas\n",
    "\n",
    "def test():\n",
    "    assert bisiesto(1) != NotImplementedError, \"No has implementado la función\"\n",
    "    assert bisiesto(1) == False, \"El año 1 no es bisiesto\"\n",
    "    assert bisiesto(4) == True, \"El año 4 es bisiesto\"\n",
    "    assert bisiesto(100) == False, \"El año 100 no es bisiesto\"\n",
    "    assert bisiesto(400) == True, \"El año 400 es bisiesto\"\n",
    "    assert bisiesto(2020) == True, \"El año 2020 es bisiesto\"\n",
    "    assert bisiesto(2021) == False, \"El año 2021 no es bisiesto\"\n",
    "    assert bisiesto(2024) == True, \"El año 2024 es bisiesto\"\n",
    "    assert bisiesto(2100) == False, \"El año 2100 no es bisiesto\"\n",
    "    assert bisiesto(2400) == True, \"El año 2400 es bisiesto\"\n",
    "    assert bisiesto(1800) == False, \"El año 1800 no es bisiesto\" "
   ]
  }
 ],
 "metadata": {
  "kernelspec": {
   "display_name": ".venv",
   "language": "python",
   "name": "python3"
  },
  "language_info": {
   "codemirror_mode": {
    "name": "ipython",
    "version": 3
   },
   "file_extension": ".py",
   "mimetype": "text/x-python",
   "name": "python",
   "nbconvert_exporter": "python",
   "pygments_lexer": "ipython3",
   "version": "3.12.1"
  }
 },
 "nbformat": 4,
 "nbformat_minor": 2
}
