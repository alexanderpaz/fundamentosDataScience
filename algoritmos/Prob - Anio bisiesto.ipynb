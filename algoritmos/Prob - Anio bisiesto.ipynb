{
 "cells": [
  {
   "cell_type": "code",
   "execution_count": null,
   "metadata": {},
   "outputs": [],
   "source": [
    "import ipytest\n",
    "ipytest.autoconfig()"
   ]
  },
  {
   "cell_type": "markdown",
   "metadata": {},
   "source": [
    "# Problema\n",
    "\n",
    "Implementar la función *bisiesto(anio)* que devuelve *True* o *False* según el año ingresado sea o no bisiesto. Para ello, debe cumplir las siguientes condiciones:\n",
    "\n",
    "- El año que es divisible por 4, es un año bisiesto, a menos que:\n",
    "  - El año pueda ser dividido exactamente por 100, excepto si:\n",
    "    - El año es a su vez divisible por 400. Entonces sí es un año bisiesto. \n",
    "  \n",
    "## Entradas\n",
    "\n",
    "- \"anio\" es un entero\n",
    "\n",
    "## Salidas\n",
    "\n",
    "- La función devuelve un boolean\n"
   ]
  },
  {
   "cell_type": "code",
   "execution_count": null,
   "metadata": {},
   "outputs": [],
   "source": [
    "def bisiesto (anio):\n",
    "    # completa aquí con tu código recuerda eliminar la linea \"raise NotImplementedError\" cuando termines\n",
    "    # no olvides escribir el return de la función\n",
    "    raise NotImplementedError"
   ]
  },
  {
   "cell_type": "code",
   "execution_count": null,
   "metadata": {},
   "outputs": [],
   "source": [
    "%%ipytest\n",
    "\n",
    "# No modifiques esta parte!\n",
    "# Este código te ayudará a probar tu función, simplemente ejecuta la celda y verás los resultados de tus pruebas\n",
    "\n",
    "import pytest\n",
    "\n",
    "class TestBisiesto:\n",
    "\n",
    "    # Returns True for years divisible by 4 but not by 100\n",
    "    def test_divisible_by_4_not_by_100(self):\n",
    "        assert bisiesto(2004) == True\n",
    "        assert bisiesto(2008) == True\n",
    "        assert bisiesto(2012) == True\n",
    "        assert bisiesto(2020) == True\n",
    "        assert bisiesto(2100) == False\n",
    "        assert bisiesto(2200) == False\n",
    "\n",
    "    # Returns True for years divisible by 400\n",
    "    def test_divisible_by_400(self):\n",
    "        assert bisiesto(1600) == True\n",
    "        assert bisiesto(2000) == True\n",
    "        assert bisiesto(2400) == True\n",
    "        assert bisiesto(2800) == True\n",
    "        assert bisiesto(2004) == False\n",
    "        assert bisiesto(2100) == False\n",
    "\n",
    "    # Returns False for years not divisible by 4\n",
    "    def test_not_divisible_by_4(self):\n",
    "        assert bisiesto(2001) == False\n",
    "        assert bisiesto(2002) == False\n",
    "        assert bisiesto(2003) == False\n",
    "        assert bisiesto(2005) == False\n",
    "        assert bisiesto(2006) == False\n",
    "        assert bisiesto(2007) == False\n",
    "\n",
    "    # Returns False for year 0\n",
    "    def test_year_0(self):\n",
    "        assert bisiesto(0) == False\n",
    "\n",
    "    # Returns True for year 4\n",
    "    def test_year_4(self):\n",
    "        assert bisiesto(4) == True\n",
    "\n",
    "    # Returns False for year -4\n",
    "    def test_year_minus_4(self):\n",
    "        assert bisiesto(-4) == False"
   ]
  },
  {
   "cell_type": "code",
   "execution_count": null,
   "metadata": {},
   "outputs": [],
   "source": []
  }
 ],
 "metadata": {
  "kernelspec": {
   "display_name": ".venv",
   "language": "python",
   "name": "python3"
  },
  "language_info": {
   "codemirror_mode": {
    "name": "ipython",
    "version": 3
   },
   "file_extension": ".py",
   "mimetype": "text/x-python",
   "name": "python",
   "nbconvert_exporter": "python",
   "pygments_lexer": "ipython3",
   "version": "3.12.1"
  }
 },
 "nbformat": 4,
 "nbformat_minor": 2
}
