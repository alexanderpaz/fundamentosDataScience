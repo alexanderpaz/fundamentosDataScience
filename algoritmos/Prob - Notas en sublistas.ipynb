{
 "cells": [
  {
   "cell_type": "code",
   "execution_count": null,
   "metadata": {},
   "outputs": [],
   "source": [
    "import ipytest\n",
    "ipytest.autoconfig()"
   ]
  },
  {
   "cell_type": "markdown",
   "metadata": {},
   "source": [
    "# Problema\n",
    "\n",
    "Dados los nombres y calificaciones de cada estudiante en una clase de $N$ estudiantes, guárdalos en una lista de listas e imprime el (los) nombre(s) de aquellos estudiantes que hayan obtenido la segunda nota mas baja.\n",
    "*Nota:* Si hay múltiples estudiantes con la segunda nota mas baja, ordena sus nombres alfabéticamente e imprime cada nombre en una nueva línea. Puedes usar **\\n** para insertar un salto de línea.\n",
    "\n",
    "## Ejemplo\n",
    "\n",
    "Se te proporciona la siguiente cadena:\n",
    "\n",
    "```\n",
    "chi\n",
    "\n",
    "20.0\n",
    "\n",
    "beta\n",
    "\n",
    "50.0\n",
    "\n",
    "alpha\n",
    "\n",
    "50.0\n",
    "```\n",
    "\n",
    "Primero debes convertir la cadena en una lista de listas:\n",
    "\n",
    "```\n",
    "[[\"chi\", 20.0], [\"beta\", 50.0], [\"alpha\", 50.0]]\n",
    "```\n",
    "\n",
    "Las dos calificaciones identificadas en la lista son 20.0 y 50.0. La peor es 20.0, por lo tanto, la segunda peor es 50.0.\n",
    "Ahora, ¿quiénes tienen 50.0 de puntuación? Rpta: **beta y alpha**.\n",
    "\n",
    "Estos dos, se ordenan alfabéticamente y se devuelve la cadena:\n",
    "\n",
    "```\n",
    "alpha\n",
    " beta\n",
    "```\n",
    "  \n",
    "## Entradas\n",
    "\n",
    "- ```lista_str``` es una cadena donde una línea es un nombre y la siguiente su calificación\n",
    "\n",
    "## Salidas\n",
    "\n",
    "- La función devuelve una cadena\n",
    "\n",
    "## Restricciones\n",
    "\n",
    "- Para el número de estudiantes $N$, cumple que: $2 \\le N \\le 5$\n",
    "- Siempre habrá al menos un estudiantes con la segunda peor nota.\n"
   ]
  },
  {
   "cell_type": "code",
   "execution_count": null,
   "metadata": {},
   "outputs": [],
   "source": [
    "def segundaPeorNota (A:str) -> str:\n",
    "    # completa aquí con tu código recuerda eliminar la linea \"raise NotImplementedError\" cuando termines\n",
    "    # no olvides escribir el return de la función\n",
    " \n",
    "    raise NotImplementedError\n",
    "            \n"
   ]
  },
  {
   "cell_type": "code",
   "execution_count": null,
   "metadata": {},
   "outputs": [],
   "source": [
    "%%ipytest\n",
    "\n",
    "# No modifiques esta parte!\n",
    "# Este código te ayudará a probar tu función, simplemente ejecuta la celda y verás los resultados de tus pruebas\n",
    "\n",
    "# Revisar si la función está implementada\n",
    "def test_functionIsImplemented():\n",
    "    assert segundaPeorNota(\"chi\\n20.0\\nbeta\\n50.0\\nalpha\\n50.0\") != NotImplementedError, \"Debes implementar la función primero.\"\n",
    "\n",
    "def test_twoEqualLowGrades():\n",
    "    assert segundaPeorNota(\"chi\\n20.0\\nbeta\\n50.0\\nalpha\\n50.0\") == \"alpha\\nbeta\\n\", \"La función no funciona correctamente con dos notas iguales\"\n",
    "\n",
    "def test_everyGradeIsDifferent():\n",
    "    assert segundaPeorNota(\"chi\\n20.0\\nbeta\\n50.0\\nalpha\\n100.0\") == \"beta\\n\", \"La función no funciona correctamente con todas las notas distintas\"\n",
    "\n",
    "def test_twoEqualHighGrades():\n",
    "    assert segundaPeorNota(\"chi\\n20.0\\nbeta\\n50.0\\nalpha\\n50.0\\ntheta\\n30.0\") == \"theta\\n\", \"La función no funciona correctamente con dos notas iguales\""
   ]
  }
 ],
 "metadata": {
  "kernelspec": {
   "display_name": ".venv",
   "language": "python",
   "name": "python3"
  },
  "language_info": {
   "codemirror_mode": {
    "name": "ipython",
    "version": 3
   },
   "file_extension": ".py",
   "mimetype": "text/x-python",
   "name": "python",
   "nbconvert_exporter": "python",
   "pygments_lexer": "ipython3",
   "version": "3.12.1"
  }
 },
 "nbformat": 4,
 "nbformat_minor": 2
}
