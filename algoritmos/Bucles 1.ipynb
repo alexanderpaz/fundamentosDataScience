{
 "cells": [
  {
   "cell_type": "code",
   "execution_count": null,
   "metadata": {},
   "outputs": [],
   "source": [
    "import ipytest\n",
    "ipytest.autoconfig()"
   ]
  },
  {
   "cell_type": "markdown",
   "metadata": {},
   "source": [
    "# Problema\n",
    "\n",
    "Completar el códidgo de la función indicada de tal manera que ésta reciba un enteros \"n\" y para todos los números enteros no-negativos \"i\" tal que $ i<n $, devuelva todos los valores de $ i^2 $ en una lista.\n",
    "  \n",
    "## Entradas\n",
    "\n",
    "- \"n\" es un entero\n",
    "\n",
    "## Salidas\n",
    "\n",
    "- La función devuelve una lista\n"
   ]
  },
  {
   "cell_type": "code",
   "execution_count": null,
   "metadata": {},
   "outputs": [],
   "source": [
    "def potencias (n):\n",
    "    # completa aquí con tu código recuerda eliminar la linea \"raise NotImplementedError\" cuando termines\n",
    "    # no olvides escribir el return de la función\n",
    "    raise NotImplementedError"
   ]
  },
  {
   "cell_type": "code",
   "execution_count": null,
   "metadata": {},
   "outputs": [],
   "source": [
    "%%ipytest\n",
    "\n",
    "# No modifiques esta parte!\n",
    "# Este código te ayudará a probar tu función, simplemente ejecuta la celda y verás los resultados de tus pruebas\n",
    "\n",
    "def test():\n",
    "    assert potencias(1) != NotImplementedError, \"No has implementado la función\"\n",
    "    \n",
    "    assert potencias(3) == [0, 1, 4], \"Test case 1 failed\"\n",
    "    \n",
    "    assert potencias(5) == [0, 1, 4, 9, 16], \"Test case 2 failed\"\n",
    "\n",
    "    assert potencias(10) == [0, 1, 4, 9, 16, 25, 36, 49, 64, 81], \"Test case 3 failed\"\n",
    "\n",
    "\n"
   ]
  }
 ],
 "metadata": {
  "kernelspec": {
   "display_name": ".venv",
   "language": "python",
   "name": "python3"
  },
  "language_info": {
   "codemirror_mode": {
    "name": "ipython",
    "version": 3
   },
   "file_extension": ".py",
   "mimetype": "text/x-python",
   "name": "python",
   "nbconvert_exporter": "python",
   "pygments_lexer": "ipython3",
   "version": "3.12.1"
  }
 },
 "nbformat": 4,
 "nbformat_minor": 2
}
