{
 "cells": [
  {
   "cell_type": "markdown",
   "metadata": {},
   "source": [
    "# Introducción a las Listas\n",
    "\n",
    "Las listas en Python son colecciones ordenadas y modificables. Se pueden utilizar para almacenar una secuencia de elementos, que pueden ser de diferentes tipos.\n",
    "\n",
    "Ejemplo básico:"
   ]
  },
  {
   "cell_type": "code",
   "execution_count": null,
   "metadata": {},
   "outputs": [],
   "source": [
    "# Creando una lista\n",
    "mi_lista = [1, 2, 3, \"Python\", True]\n",
    "print(mi_lista)\n"
   ]
  },
  {
   "cell_type": "markdown",
   "metadata": {},
   "source": [
    "# Operaciones Básicas con Listas\n",
    "\n",
    "Puedes realizar varias operaciones con listas, como agregar o eliminar elementos, acceder a elementos específicos, y recorrer la lista con bucles.\n",
    "\n",
    "Ejemplo de operaciones:"
   ]
  },
  {
   "cell_type": "code",
   "execution_count": null,
   "metadata": {},
   "outputs": [],
   "source": [
    "# Operaciones con listas\n",
    "mi_lista = [1, 2, 3, 4, 5]\n",
    "mi_lista.append(6)          # Agregar al final\n",
    "mi_lista.insert(0, 0)       # Insertar en una posición específica\n",
    "print(mi_lista[2])          # Acceder a un elemento\n",
    "mi_lista.remove(3)          # Eliminar un elemento\n"
   ]
  },
  {
   "cell_type": "markdown",
   "metadata": {},
   "source": [
    "# Introducción a los Diccionarios\n",
    "\n",
    "Los diccionarios en Python son colecciones no ordenadas de pares clave-valor. Son útiles cuando necesitas asociar pares de información, como una palabra y su definición.\n",
    "\n",
    "Ejemplo básico:\n"
   ]
  },
  {
   "cell_type": "code",
   "execution_count": null,
   "metadata": {},
   "outputs": [],
   "source": [
    "# Creando un diccionario\n",
    "mi_diccionario = {\"nombre\": \"Alice\", \"edad\": 25, \"ciudad\": \"Lima\"}\n",
    "print(mi_diccionario)\n"
   ]
  },
  {
   "cell_type": "markdown",
   "metadata": {},
   "source": [
    "# Operaciones Básicas con Diccionarios\n",
    "\n",
    "Los diccionarios permiten agregar, eliminar y modificar sus pares clave-valor. También puedes acceder a los valores y recorrerlos.\n",
    "\n",
    "Ejemplo de operaciones:\n"
   ]
  },
  {
   "cell_type": "code",
   "execution_count": null,
   "metadata": {},
   "outputs": [],
   "source": [
    "# Operaciones con diccionarios\n",
    "mi_diccionario = {\"nombre\": \"Alice\", \"edad\": 25}\n",
    "mi_diccionario[\"ciudad\"] = \"Lima\"    # Agregar un nuevo par clave-valor\n",
    "print(mi_diccionario[\"nombre\"])      # Acceder a un valor\n",
    "mi_diccionario[\"edad\"] = 26          # Modificar un valor\n",
    "del mi_diccionario[\"ciudad\"]         # Eliminar un par clave-valor"
   ]
  },
  {
   "cell_type": "markdown",
   "metadata": {},
   "source": [
    "# Ejercicios Prácticos\n",
    "\n",
    "1. Crea una lista con tus películas favoritas y luego agrega dos películas más usando métodos de lista.\n",
    "\n",
    "2. Crea un diccionario que represente un perfil de usuario en una red social, con detalles como nombre, edad, y lista de hobbies. Modifica un par clave-valor y agrega un nuevo par.\n"
   ]
  },
  {
   "cell_type": "code",
   "execution_count": null,
   "metadata": {},
   "outputs": [],
   "source": [
    "# Espacio para el ejercicio 1\n",
    "\n"
   ]
  },
  {
   "cell_type": "code",
   "execution_count": null,
   "metadata": {},
   "outputs": [],
   "source": [
    "# Espacio para el ejercicio 2\n",
    "\n"
   ]
  },
  {
   "cell_type": "markdown",
   "metadata": {},
   "source": [
    "# Resumen\n",
    "\n",
    "En este cuaderno, has aprendido sobre las colecciones en Python, específicamente las listas y los diccionarios. Estas estructuras son fundamentales en Python y proporcionan una forma flexible de organizar y manipular datos.\n",
    "\n",
    "**En el próximo cuaderno**, nos enfocaremos en las funciones en Python, cómo definirlas y cómo se pueden utilizar para organizar mejor tu código.\n"
   ]
  },
  {
   "cell_type": "markdown",
   "metadata": {},
   "source": [
    "---"
   ]
  },
  {
   "cell_type": "markdown",
   "metadata": {},
   "source": [
    "# Ejercicios Extra"
   ]
  },
  {
   "cell_type": "markdown",
   "metadata": {},
   "source": [
    "## Problema: Encontrar el Mayor y el Menor\n",
    "\n",
    "Dada una lista de números enteros, escribe un programa que encuentre el número mayor y el número menor en la lista.\n",
    "\n",
    "Ejemplo de entrada: [3, 1, 4, 2, 5]\n",
    "Salida esperada: Mayor: 5, Menor: 1\n"
   ]
  },
  {
   "cell_type": "code",
   "execution_count": null,
   "metadata": {},
   "outputs": [],
   "source": []
  },
  {
   "cell_type": "markdown",
   "metadata": {},
   "source": [
    "## Problema: Rotación de Lista\n",
    "\n",
    "Escribe un programa que rote los elementos de una lista hacia la izquierda n veces. Por ejemplo, si n es 2, entonces los dos primeros elementos de la lista se moverán al final.\n",
    "\n",
    "Ejemplo de entrada: `Lista = [1, 2, 3, 4, 5]`, `n = 2`\n",
    "\n",
    "Salida esperada: `[3, 4, 5, 1, 2]`"
   ]
  },
  {
   "cell_type": "code",
   "execution_count": null,
   "metadata": {},
   "outputs": [],
   "source": []
  },
  {
   "cell_type": "markdown",
   "metadata": {},
   "source": [
    "## Problema: Conteo de Palabras\n",
    "\n",
    "Dada una cadena de texto, escribe un programa que cuente la frecuencia de cada palabra en la cadena y la almacene en un diccionario.\n",
    "\n",
    "Ejemplo de entrada: \"manzana naranja manzana pera\"\n",
    "Salida esperada: {'manzana': 2, 'naranja': 1, 'pera': 1}\n"
   ]
  },
  {
   "cell_type": "code",
   "execution_count": null,
   "metadata": {},
   "outputs": [],
   "source": []
  },
  {
   "cell_type": "markdown",
   "metadata": {},
   "source": [
    "## Problema: Agendas de Contactos\n",
    "\n",
    "Crea un programa que funcione como una agenda de contactos. Debe permitir agregar nuevos contactos, eliminar contactos y buscar un contacto por su nombre, mostrando su número telefónico. Usa un diccionario para almacenar los contactos.\n",
    "\n",
    "Funcionalidades:\n",
    "- Agregar contacto: nombre y número.\n",
    "- Eliminar contacto: por nombre.\n",
    "- Buscar contacto: por nombre.\n"
   ]
  },
  {
   "cell_type": "code",
   "execution_count": null,
   "metadata": {},
   "outputs": [],
   "source": []
  }
 ],
 "metadata": {
  "language_info": {
   "name": "python"
  }
 },
 "nbformat": 4,
 "nbformat_minor": 2
}
