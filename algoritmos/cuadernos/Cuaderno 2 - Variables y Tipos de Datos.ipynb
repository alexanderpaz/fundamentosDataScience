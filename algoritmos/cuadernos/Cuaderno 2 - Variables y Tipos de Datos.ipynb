{
 "cells": [
  {
   "cell_type": "markdown",
   "metadata": {},
   "source": [
    "# Introducción a las Variables\n",
    "\n",
    "En programación, una variable es un espacio de almacenamiento que tiene un nombre y está asociado con un valor y un tipo de dato. Las variables en Python son \"etiquetas\" que puedes asignar a diferentes valores.\n",
    "\n",
    "Ejemplo:\n"
   ]
  },
  {
   "cell_type": "code",
   "execution_count": 1,
   "metadata": {},
   "outputs": [],
   "source": [
    "# Ejemplo de Variables\n",
    "numero = 10\n",
    "mensaje = \"Hola\"\n"
   ]
  },
  {
   "cell_type": "markdown",
   "metadata": {},
   "source": [
    "# Tipos de Datos Básicos\n",
    "\n",
    "Python tiene varios tipos de datos incorporados por defecto, como:\n",
    "\n",
    "- **int**: Números enteros (ej. 5, -3)\n",
    "- **float**: Números con punto decimal (ej. 2.5, 3.14)\n",
    "- **str**: Cadenas de texto (ej. \"Hola\", \"Python\")\n",
    "- **bool**: Valores booleanos (True, False)\n",
    "\n",
    "Veamos algunos ejemplos:\n"
   ]
  },
  {
   "cell_type": "code",
   "execution_count": null,
   "metadata": {},
   "outputs": [],
   "source": [
    "# Ejemplos de Tipos de Datos\n",
    "entero = 5\n",
    "decimal = 2.5\n",
    "texto = \"Python\"\n",
    "verdadero = True"
   ]
  },
  {
   "cell_type": "markdown",
   "metadata": {},
   "source": [
    "# Operaciones con Variables\n",
    "\n",
    "Puedes realizar operaciones matemáticas y de otro tipo con variables. Por ejemplo:\n",
    "\n",
    "- Suma: `a + b`\n",
    "- Concatenación de texto: `\"Hola \" + \"Mundo\"`\n",
    "\n",
    "Prueba algunas operaciones en las siguientes celdas."
   ]
  },
  {
   "cell_type": "code",
   "execution_count": null,
   "metadata": {},
   "outputs": [],
   "source": [
    "# Ejemplo de Operaciones\n",
    "numero1 = 10\n",
    "numero2 = 5\n",
    "suma = numero1 + numero2\n",
    "print(\"Suma:\", suma)\n",
    "\n",
    "texto1 = \"Jupyter \"\n",
    "texto2 = \"Notebook\"\n",
    "concatenacion = texto1 + texto2\n",
    "print(\"Concatenación:\", concatenacion)\n"
   ]
  },
  {
   "cell_type": "markdown",
   "metadata": {},
   "source": [
    "# Ejercicio: Jugando con Variables\n",
    "\n",
    "Crea variables de diferentes tipos y realiza operaciones con ellas. Por ejemplo, suma dos números o concatena dos cadenas de texto.\n"
   ]
  },
  {
   "cell_type": "code",
   "execution_count": null,
   "metadata": {},
   "outputs": [],
   "source": [
    "# Escribe tu código aquí\n"
   ]
  },
  {
   "cell_type": "markdown",
   "metadata": {},
   "source": [
    "## Tabla de Operadores Aritméticos en Python\n",
    "\n",
    "| Operador | Descripción                        | Ejemplo | Resultado |\n",
    "|----------|------------------------------------|---------|-----------|\n",
    "| `+`      | Suma                               | `5 + 3` | `8`       |\n",
    "| `-`      | Resta                              | `5 - 3` | `2`       |\n",
    "| `*`      | Multiplicación                     | `5 * 3` | `15`      |\n",
    "| `/`      | División                           | `5 / 2` | `2.5`     |\n",
    "| `//`     | División entera                    | `5 // 2`| `2`       |\n",
    "| `%`      | Módulo (resto de la división)      | `5 % 2` | `1`       |\n",
    "| `**`     | Potencia                           | `5 ** 3`| `125`     |\n",
    "\n",
    "## Tabla de Operadores Lógicos en Python\n",
    "\n",
    "| Operador | Descripción                             | Ejemplo          | Resultado |\n",
    "|----------|-----------------------------------------|------------------|-----------|\n",
    "| `and`    | Devuelve True si ambos lados son True   | `True and False` | `False`   |\n",
    "| `or`     | Devuelve True si alguno de los lados es True | `True or False` | `True`    |\n",
    "| `not`    | Invierte el valor booleano              | `not True`       | `False`   |\n"
   ]
  },
  {
   "cell_type": "markdown",
   "metadata": {},
   "source": [
    "# Conversión de Tipos de Datos\n",
    "\n",
    "En ocasiones, necesitarás convertir variables de un tipo a otro. Python proporciona funciones para realizar estas conversiones. Por ejemplo, `int()` para convertir a entero, `str()` para convertir a cadena.\n",
    "\n",
    "Ejemplo:"
   ]
  },
  {
   "cell_type": "markdown",
   "metadata": {},
   "source": [
    "# Ejemplo de Conversión de Tipos\n",
    "numero = \"10\"\n",
    "numero_convertido = int(numero)\n",
    "print(numero_convertido + 5)  # Ahora puedes sumar como enteros"
   ]
  },
  {
   "cell_type": "markdown",
   "metadata": {},
   "source": [
    "# Resumen\n",
    "\n",
    "En este cuaderno, hemos explorado las variables y los tipos de datos básicos en Python. Hemos aprendido a realizar operaciones con variables y a convertir entre diferentes tipos de datos.\n",
    "\n",
    "**En el próximo cuaderno**, profundizaremos en las estructuras de control, comenzando con las declaraciones condicionales."
   ]
  },
  {
   "cell_type": "markdown",
   "metadata": {},
   "source": [
    "---\n"
   ]
  },
  {
   "cell_type": "markdown",
   "metadata": {},
   "source": [
    "# Ejercicios Extra"
   ]
  },
  {
   "cell_type": "markdown",
   "metadata": {},
   "source": [
    "# Concatenación y Formateo de Cadenas\n",
    "\n",
    "- Crea dos variables `nombre` y `apellido` y asignales tu nombre y apellido.\n",
    "- Concatena las dos variables para formar tu nombre completo y asignalo a una variable `nombre_completo`.\n",
    "- Utiliza el método `format` para mostrar un mensaje que diga \"Hola, mi nombre es [nombre completo]\"."
   ]
  },
  {
   "cell_type": "code",
   "execution_count": null,
   "metadata": {},
   "outputs": [],
   "source": [
    "# Escribe tu código aquí\n"
   ]
  },
  {
   "cell_type": "markdown",
   "metadata": {},
   "source": [
    "# Manipulación de Cadenas\n",
    "\n",
    "Dada la cadena `frase = \"Aprendiendo Python en Jupyter\"`, realiza las siguientes operaciones:\n",
    "\n",
    "- Extrae la palabra \"Python\".\n",
    "- Reemplaza \"Jupyter\" por \"Notebook\".\n",
    "- Convierte toda la cadena a mayúsculas."
   ]
  },
  {
   "cell_type": "markdown",
   "metadata": {},
   "source": [
    "# Escribe tu código aquí\n",
    "frase = \"Aprendiendo Python en Jupyter\"\n",
    "# Realiza las operaciones aquí\n"
   ]
  },
  {
   "cell_type": "markdown",
   "metadata": {},
   "source": [
    "# Calculando el Área de un Rectángulo\n",
    "\n",
    "Escribe un programa que calcule el área de un rectángulo. Utiliza las variables `largo` y `ancho` con los valores 5 y 3, respectivamente, para calcular el área (Área = largo * ancho)."
   ]
  },
  {
   "cell_type": "markdown",
   "metadata": {},
   "source": [
    "# Escribe tu código aquí\n",
    "largo = 5\n",
    "ancho = 3\n",
    "# Calcula y muestra el área del rectángulo\n"
   ]
  },
  {
   "cell_type": "markdown",
   "metadata": {},
   "source": [
    "# División y Redondeo\n",
    "\n",
    "Dadas dos variables `dividendo = 7` y `divisor = 2`, realiza la división y muestra el resultado redondeado a dos decimales."
   ]
  },
  {
   "cell_type": "code",
   "execution_count": null,
   "metadata": {},
   "outputs": [],
   "source": [
    "# Escribe tu código aquí\n",
    "dividendo = 7\n",
    "divisor = 2\n",
    "# Realiza la división y muestra el resultado redondeado\n"
   ]
  },
  {
   "cell_type": "markdown",
   "metadata": {},
   "source": [
    "# Operaciones con Números Decimales\n",
    "\n",
    "Realiza las siguientes operaciones con números decimales:\n",
    "- Suma de 8.5 y 4.2.\n",
    "- Multiplicación de 7.7 y 3.5.\n",
    "- División de 9.8 por 2.5."
   ]
  },
  {
   "cell_type": "code",
   "execution_count": null,
   "metadata": {},
   "outputs": [],
   "source": [
    "# Escribe tu código aquí\n",
    "# Realiza y muestra los resultados de las operaciones\n"
   ]
  },
  {
   "cell_type": "markdown",
   "metadata": {},
   "source": [
    "# Cálculo del Perímetro de un Círculo\n",
    "\n",
    "Escribe un programa que calcule el perímetro de un círculo. Utiliza la variable `radio` con el valor 4. Utiliza la constante `pi` (puedes importarla desde el módulo `math` o utilizar 3.14)."
   ]
  },
  {
   "cell_type": "code",
   "execution_count": null,
   "metadata": {},
   "outputs": [],
   "source": [
    "# Escribe tu código aquí\n",
    "radio = 4\n",
    "# Calcula y muestra el perímetro del círculo\n"
   ]
  }
 ],
 "metadata": {
  "kernelspec": {
   "display_name": ".venv",
   "language": "python",
   "name": "python3"
  },
  "language_info": {
   "codemirror_mode": {
    "name": "ipython",
    "version": 3
   },
   "file_extension": ".py",
   "mimetype": "text/x-python",
   "name": "python",
   "nbconvert_exporter": "python",
   "pygments_lexer": "ipython3",
   "version": "3.12.1"
  }
 },
 "nbformat": 4,
 "nbformat_minor": 2
}
