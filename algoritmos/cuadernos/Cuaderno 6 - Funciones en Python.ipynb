{
 "cells": [
  {
   "cell_type": "markdown",
   "metadata": {},
   "source": [
    "# Introducción a las Funciones\n",
    "\n",
    "Las funciones en Python son bloques de código que se ejecutan cuando se llaman. Son útiles para realizar tareas específicas y pueden recibir datos de entrada y devolver datos de salida.\n",
    "\n",
    "Ejemplo de una función simple:\n"
   ]
  },
  {
   "cell_type": "code",
   "execution_count": null,
   "metadata": {},
   "outputs": [],
   "source": [
    "# Definición de una función\n",
    "def saludar():\n",
    "    print(\"Hola, bienvenido a Python!\")\n",
    "\n",
    "# Llamada a la función\n",
    "saludar()\n"
   ]
  },
  {
   "cell_type": "markdown",
   "metadata": {},
   "source": [
    "# Parámetros y Argumentos\n",
    "\n",
    "Las funciones pueden recibir datos de entrada, conocidos como parámetros, y utilizar estos datos para realizar operaciones.\n",
    "\n",
    "Ejemplo con parámetros:\n"
   ]
  },
  {
   "cell_type": "code",
   "execution_count": null,
   "metadata": {},
   "outputs": [],
   "source": [
    "# Función con parámetros\n",
    "def saludar_persona(nombre):\n",
    "    print(f\"Hola, {nombre}!\")\n",
    "\n",
    "# Llamada a la función con un argumento\n",
    "saludar_persona(\"Alice\")\n"
   ]
  },
  {
   "cell_type": "markdown",
   "metadata": {},
   "source": [
    "# Valores de Retorno\n",
    "\n",
    "Las funciones pueden devolver valores. Esto es útil cuando quieres que la función calcule algo y lo pase de vuelta para su uso posterior.\n",
    "\n",
    "Ejemplo de función que devuelve un valor:\n"
   ]
  },
  {
   "cell_type": "code",
   "execution_count": null,
   "metadata": {},
   "outputs": [],
   "source": [
    "# Función que devuelve un valor\n",
    "def sumar(a, b):\n",
    "    return a + b\n",
    "\n",
    "# Llamada a la función y uso de su valor de retorno\n",
    "resultado = sumar(5, 3)\n",
    "print(f\"El resultado es: {resultado}\")\n"
   ]
  },
  {
   "cell_type": "markdown",
   "metadata": {},
   "source": [
    "# Funciones con Valores por Defecto y Argumentos de Palabra Clave\n",
    "\n",
    "Puedes asignar valores por defecto a los parámetros de una función. Además, puedes llamar a funciones utilizando argumentos de palabra clave.\n",
    "\n",
    "Ejemplo de función con valores por defecto y argumentos de palabra clave:\n"
   ]
  },
  {
   "cell_type": "code",
   "execution_count": null,
   "metadata": {},
   "outputs": [],
   "source": [
    "# Función con un parámetro por defecto\n",
    "def presentarse(nombre, titulo=\"Estudiante\"):\n",
    "    print(f\"Hola, mi nombre es {nombre} y soy {titulo}.\")\n",
    "\n",
    "# Llamada a la función con argumentos de palabra clave\n",
    "presentarse(titulo=\"Ingeniero\", nombre=\"Bob\")\n"
   ]
  },
  {
   "cell_type": "markdown",
   "metadata": {},
   "source": [
    "# Ejercicios Prácticos\n",
    "\n",
    "1. Escribe una función que calcule el área de un triángulo, dados su base y altura.\n",
    "\n",
    "2. Crea una función que reciba una lista de números y devuelva el número más grande de la lista.\n"
   ]
  },
  {
   "cell_type": "code",
   "execution_count": null,
   "metadata": {},
   "outputs": [],
   "source": [
    "# Espacio para el ejercicio 1\n",
    "\n"
   ]
  },
  {
   "cell_type": "code",
   "execution_count": null,
   "metadata": {},
   "outputs": [],
   "source": [
    "# Espacio para el ejercicio 2\n",
    "\n"
   ]
  },
  {
   "cell_type": "markdown",
   "metadata": {},
   "source": [
    "# Resumen\n",
    "\n",
    "En este cuaderno, has aprendido sobre las funciones en Python. Hemos cubierto cómo definirlas, cómo pasan y reciben información, y cómo devuelven valores. Las funciones son herramientas poderosas para organizar tu código de manera eficiente y reutilizable.\n",
    "\n",
    "**En el próximo cuaderno**, exploraremos conceptos adicionales en Python, como la manipulación de cadenas de texto y la utilización de librerías estándar.\n"
   ]
  },
  {
   "cell_type": "markdown",
   "metadata": {},
   "source": [
    "---"
   ]
  },
  {
   "cell_type": "markdown",
   "metadata": {},
   "source": [
    "# Ejercicios Extra"
   ]
  },
  {
   "cell_type": "markdown",
   "metadata": {},
   "source": [
    "## Problema 1: Conversor de Temperatura\n",
    "Enunciado:\n",
    "Escribe una función que convierta la temperatura de grados Celsius a Fahrenheit.\n",
    "\n",
    "**Entradas Esperadas:**\n",
    "\n",
    "Temperatura en grados Celsius (float o int).\n",
    "\n",
    "**Salidas:**\n",
    "\n",
    "Temperatura en grados Fahrenheit (float).\n",
    "\n",
    "**Ejemplo:**\n",
    "\n",
    "```python\n",
    "convertir_celsius_a_fahrenheit(0)  # Debe devolver 32.0\n",
    "```"
   ]
  },
  {
   "cell_type": "code",
   "execution_count": 1,
   "metadata": {},
   "outputs": [],
   "source": [
    "# Función a Completar\n",
    "def convertir_celsius_a_fahrenheit(celsius):\n",
    "    # Tu código aquí\n",
    "    # (0 °C × 9/5) + 32 = 32 °F\n",
    "\n",
    "    pass\n"
   ]
  },
  {
   "cell_type": "code",
   "execution_count": 2,
   "metadata": {},
   "outputs": [
    {
     "ename": "AssertionError",
     "evalue": "",
     "output_type": "error",
     "traceback": [
      "\u001b[1;31m---------------------------------------------------------------------------\u001b[0m",
      "\u001b[1;31mAssertionError\u001b[0m                            Traceback (most recent call last)",
      "Cell \u001b[1;32mIn[2], line 3\u001b[0m\n\u001b[0;32m      1\u001b[0m \u001b[38;5;66;03m# No modifiques este código, te servirá para verificar tu respuesta\u001b[39;00m\n\u001b[1;32m----> 3\u001b[0m \u001b[38;5;28;01massert\u001b[39;00m convertir_celsius_a_fahrenheit(\u001b[38;5;241m0\u001b[39m) \u001b[38;5;241m==\u001b[39m \u001b[38;5;241m32.0\u001b[39m\n\u001b[0;32m      4\u001b[0m \u001b[38;5;28;01massert\u001b[39;00m convertir_celsius_a_fahrenheit(\u001b[38;5;241m100\u001b[39m) \u001b[38;5;241m==\u001b[39m \u001b[38;5;241m212.0\u001b[39m\n",
      "\u001b[1;31mAssertionError\u001b[0m: "
     ]
    }
   ],
   "source": [
    "# No modifiques este código, te servirá para verificar tu respuesta\n",
    "\n",
    "assert convertir_celsius_a_fahrenheit(0) == 32.0\n",
    "assert convertir_celsius_a_fahrenheit(100) == 212.0"
   ]
  },
  {
   "cell_type": "markdown",
   "metadata": {},
   "source": [
    "## Problema 2: Suma de una Lista\n",
    "\n",
    "**Enunciado:**\n",
    "Escribe una función que tome una lista de números y devuelva la suma de sus elementos.\n",
    "\n",
    "**Entradas Esperadas:**\n",
    "\n",
    "Lista de números (List[int] o List[float]).\n",
    "\n",
    "**Salidas:**\n",
    "\n",
    "Suma de los elementos de la lista (int o float).\n",
    "\n",
    "**Ejemplo:**\n",
    "\n",
    "```python\n",
    "sumar_lista([1, 2, 3, 4])  # Debe devolver 10\n",
    "```"
   ]
  },
  {
   "cell_type": "code",
   "execution_count": null,
   "metadata": {},
   "outputs": [],
   "source": [
    "# Función a Completar\n",
    "def sumar_lista(lista_numeros):\n",
    "    # Tu código aquí\n",
    "    pass\n"
   ]
  },
  {
   "cell_type": "code",
   "execution_count": null,
   "metadata": {},
   "outputs": [],
   "source": [
    "# No modifiques este código, te servirá para verificar tu respuesta\n",
    "\n",
    "assert sumar_lista([1, 2, 3, 4]) == 10\n",
    "assert sumar_lista([0, -1, 1]) == 0"
   ]
  },
  {
   "cell_type": "markdown",
   "metadata": {},
   "source": [
    "## Problema 3: Validador de Contraseñas\n",
    "\n",
    "**Enunciado:**\n",
    "\n",
    "Escribe una función que valide la fortaleza de una contraseña basada en las siguientes reglas: debe tener al menos 8 caracteres, al menos una letra mayúscula, una letra minúscula y un número.\n",
    "\n",
    "**Entradas Esperadas:**\n",
    "\n",
    "Contraseña (string).\n",
    "\n",
    "**Salidas:**\n",
    "\n",
    "Booleano indicando si la contraseña es fuerte (True) o no (False).\n",
    "\n",
    "**Ejemplo:**\n",
    "\n",
    "```python\n",
    "validar_contrasena(\"Password123\")  # Debe devolver True\n",
    "```"
   ]
  },
  {
   "cell_type": "code",
   "execution_count": null,
   "metadata": {},
   "outputs": [],
   "source": [
    "# Función a Completar\n",
    "def validar_contrasena(contrasena):\n",
    "    # Tu código aquí\n",
    "    pass\n"
   ]
  },
  {
   "cell_type": "code",
   "execution_count": null,
   "metadata": {},
   "outputs": [],
   "source": [
    "# No modifiques este código, te servirá para verificar tu respuesta\n",
    "\n",
    "assert validar_contrasena(\"Password123\") == True\n",
    "assert validar_contrasena(\"pass\") == False\n",
    "assert validar_contrasena(\"12345678\") == False\n",
    "assert validar_contrasena(\"Aa1Bb2\") == False\n"
   ]
  }
 ],
 "metadata": {
  "kernelspec": {
   "display_name": "Python 3 (ipykernel)",
   "language": "python",
   "name": "python3"
  },
  "language_info": {
   "codemirror_mode": {
    "name": "ipython",
    "version": 3
   },
   "file_extension": ".py",
   "mimetype": "text/x-python",
   "name": "python",
   "nbconvert_exporter": "python",
   "pygments_lexer": "ipython3",
   "version": "3.12.1"
  }
 },
 "nbformat": 4,
 "nbformat_minor": 4
}
