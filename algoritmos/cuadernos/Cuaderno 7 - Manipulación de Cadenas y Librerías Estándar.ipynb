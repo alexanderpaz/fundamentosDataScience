{
 "cells": [
  {
   "cell_type": "markdown",
   "metadata": {},
   "source": [
    "# Introducción a la Manipulación de Cadenas\n",
    "\n",
    "Las cadenas de texto son secuencias de caracteres y son muy comunes en la programación. Python proporciona muchas herramientas para manipular cadenas, lo que facilita realizar tareas como formatear, dividir o modificar texto.\n",
    "\n",
    "Ejemplo de manipulación básica de cadenas:\n"
   ]
  },
  {
   "cell_type": "code",
   "execution_count": null,
   "metadata": {},
   "outputs": [],
   "source": [
    "# Ejemplo de Manipulación de Cadenas\n",
    "texto = \"Hola, mundo!\"\n",
    "print(texto.upper())       # Convertir a mayúsculas\n",
    "print(texto.lower())       # Convertir a minúsculas\n",
    "print(texto.replace(\"Hola\", \"Adiós\"))  # Reemplazar una subcadena\n"
   ]
  },
  {
   "cell_type": "markdown",
   "metadata": {},
   "source": [
    "# Formateo de Cadenas\n",
    "\n",
    "El formateo de cadenas permite insertar datos dinámicamente en una cadena de texto. Python ofrece varias maneras de formatear cadenas, incluyendo el método `format` y las f-strings (cadenas formateadas).\n",
    "\n",
    "Ejemplo de formateo de cadenas:\n"
   ]
  },
  {
   "cell_type": "code",
   "execution_count": null,
   "metadata": {},
   "outputs": [],
   "source": [
    "# Ejemplo de Formateo de Cadenas\n",
    "nombre = \"Alice\"\n",
    "edad = 25\n",
    "print(\"Mi nombre es {} y tengo {} años\".format(nombre, edad))  # Método format\n",
    "print(f\"Mi nombre es {nombre} y tengo {edad} años\")  # f-string\n"
   ]
  },
  {
   "cell_type": "markdown",
   "metadata": {},
   "source": [
    "# Métodos Comunes de Cadenas\n",
    "\n",
    "Python tiene una variedad de métodos incorporados para trabajar con cadenas. Algunos ejemplos incluyen `split()`, `join()`, `startswith()`, y `endswith()`.\n",
    "\n",
    "Ejemplo de métodos comunes:\n"
   ]
  },
  {
   "cell_type": "code",
   "execution_count": null,
   "metadata": {},
   "outputs": [],
   "source": [
    "# Ejemplo de Métodos Comunes de Cadenas\n",
    "texto = \"manzana, banana, cereza\"\n",
    "lista_frutas = texto.split(\", \")  # Dividir en una lista\n",
    "print(lista_frutas)\n",
    "\n",
    "texto_junto = \" - \".join(lista_frutas)  # Unir en una cadena\n",
    "print(texto_junto)\n"
   ]
  },
  {
   "cell_type": "markdown",
   "metadata": {},
   "source": [
    "# Uso de Librerías Estándar\n",
    "\n",
    "Python viene con una extensa librería estándar que ofrece herramientas adicionales y específicas. Algunas librerías comunes incluyen `math`, `datetime`, y `random`.\n",
    "\n",
    "Ejemplo de uso de librerías estándar:\n"
   ]
  },
  {
   "cell_type": "code",
   "execution_count": null,
   "metadata": {},
   "outputs": [],
   "source": [
    "# Ejemplo de Uso de Librerías Estándar\n",
    "import math\n",
    "print(math.sqrt(16))  # Raíz cuadrada\n",
    "\n",
    "import datetime\n",
    "hoy = datetime.date.today()\n",
    "print(hoy)  # Fecha de hoy\n",
    "\n",
    "import random\n",
    "numero = random.randint(1, 10)\n",
    "print(numero)  # Número aleatorio entre 1 y 10\n"
   ]
  },
  {
   "cell_type": "markdown",
   "metadata": {},
   "source": [
    "## Principales Funciones de la Librería Math\n",
    "\n",
    "| Función         | Descripción                                    | Ejemplo de Uso      |\n",
    "|-----------------|------------------------------------------------|---------------------|\n",
    "| `math.sqrt(x)`  | Devuelve la raíz cuadrada de x.                | `math.sqrt(16)`     |\n",
    "| `math.pow(x, y)`| Devuelve x elevado a la potencia y.            | `math.pow(2, 3)`    |\n",
    "| `math.ceil(x)`  | Redondea un número hacia arriba al entero más cercano. | `math.ceil(4.3)`   |\n",
    "| `math.floor(x)` | Redondea un número hacia abajo al entero más cercano. | `math.floor(4.7)`  |\n",
    "| `math.factorial(x)` | Devuelve el factorial de x.                | `math.factorial(5)` |\n",
    "| `math.log(x)`   | Devuelve el logaritmo natural de x.           | `math.log(10)`      |\n",
    "| `math.exp(x)`   | Devuelve e elevado a la potencia x.           | `math.exp(3)`       |\n",
    "| `math.sin(x)`   | Devuelve el seno de x (x en radianes).        | `math.sin(math.pi/2)`|\n",
    "| `math.cos(x)`   | Devuelve el coseno de x (x en radianes).      | `math.cos(math.pi)` |\n",
    "| `math.tan(x)`   | Devuelve la tangente de x (x en radianes).    | `math.tan(math.pi/4)`|\n",
    "\n",
    "Recuerda que necesitas importar la librería math para utilizar estas funciones (`import math`).\n"
   ]
  },
  {
   "cell_type": "markdown",
   "metadata": {},
   "source": [
    "## Principales Funciones y Clases de la Librería Datetime\n",
    "\n",
    "| Clase/Función                | Descripción                                               | Ejemplo de Uso                |\n",
    "|------------------------------|-----------------------------------------------------------|-------------------------------|\n",
    "| `datetime.date(year, month, day)` | Crea un objeto de fecha con año, mes y día.               | `datetime.date(2022, 12, 31)` |\n",
    "| `datetime.time(hour, minute, second, microsecond)` | Crea un objeto de tiempo con hora, minutos, segundos y microsegundos. | `datetime.time(23, 59, 59)`   |\n",
    "| `datetime.datetime(year, month, day, hour, minute, second, microsecond)` | Crea un objeto de fecha y hora.                           | `datetime.datetime(2022, 12, 31, 23, 59, 59)` |\n",
    "| `datetime.datetime.now()`    | Devuelve el objeto de fecha y hora actual.               | `datetime.datetime.now()`     |\n",
    "| `datetime.timedelta(days, seconds, microseconds, milliseconds, minutes, hours, weeks)` | Representa una duración, la diferencia entre dos fechas o tiempos. | `datetime.timedelta(days=5)`  |\n",
    "| `date.year, date.month, date.day` | Atributos para obtener el año, mes y día de una fecha.  | `fecha = datetime.date(2022, 12, 31); fecha.year` |\n",
    "| `time.hour, time.minute, time.second, time.microsecond` | Atributos para obtener la hora, minutos, segundos y microsegundos de un tiempo. | `tiempo = datetime.time(23, 59, 59); tiempo.hour` |\n",
    "| `datetime.strftime(format)`  | Convierte un objeto de fecha y hora a su representación como cadena de acuerdo a un formato especificado. | `ahora = datetime.datetime.now(); ahora.strftime(\"%Y-%m-%d %H:%M:%S\")` |\n",
    "\n",
    "Recuerda importar la librería datetime para utilizar estas funciones y clases (`import datetime`).\n"
   ]
  },
  {
   "cell_type": "markdown",
   "metadata": {},
   "source": [
    "## Principales Funciones de la Librería Random\n",
    "\n",
    "| Función                      | Descripción                                               | Ejemplo de Uso                    |\n",
    "|------------------------------|-----------------------------------------------------------|-----------------------------------|\n",
    "| `random.random()`            | Devuelve un número flotante aleatorio entre 0.0 y 1.0.    | `random.random()`                 |\n",
    "| `random.uniform(a, b)`       | Devuelve un número flotante aleatorio entre `a` y `b`.    | `random.uniform(1, 10)`           |\n",
    "| `random.randint(a, b)`       | Devuelve un número entero aleatorio entre `a` y `b`.      | `random.randint(1, 10)`           |\n",
    "| `random.choice(seq)`         | Devuelve un elemento aleatorio de una secuencia no vacía. | `random.choice(['manzana', 'banana', 'cereza'])` |\n",
    "| `random.choices(seq, k)`     | Devuelve una lista con `k` elementos aleatorios de la secuencia dada. | `random.choices(['manzana', 'banana', 'cereza'], k=2)` |\n",
    "| `random.sample(seq, k)`      | Devuelve una lista con `k` elementos únicos aleatorios de la secuencia dada. | `random.sample(range(1, 100), 3)` |\n",
    "| `random.shuffle(seq)`        | Mezcla los elementos de una lista en lugar.               | `lista = [1, 2, 3, 4, 5]; random.shuffle(lista)` |\n",
    "\n",
    "Recuerda importar la librería random para utilizar estas funciones (`import random`).\n"
   ]
  },
  {
   "cell_type": "markdown",
   "metadata": {},
   "source": [
    "# Ejercicios Prácticos\n",
    "\n",
    "1. Escribe una función que tome una cadena de texto y devuelva la misma cadena en orden inverso.\n",
    "\n",
    "2. Crea una función que use la librería `datetime` para calcular cuántos días faltan para tu próximo cumpleaños.\n"
   ]
  },
  {
   "cell_type": "code",
   "execution_count": null,
   "metadata": {},
   "outputs": [],
   "source": [
    "# Espacio para el ejercicio 1\n",
    "\n"
   ]
  },
  {
   "cell_type": "code",
   "execution_count": null,
   "metadata": {},
   "outputs": [],
   "source": [
    "# Espacio para el ejercicio 2\n",
    "\n"
   ]
  },
  {
   "cell_type": "markdown",
   "metadata": {},
   "source": [
    "# Resumen\n",
    "\n",
    "En este cuaderno, has explorado la manipulación de cadenas de texto y el uso de algunas librerías estándar en Python. Estas habilidades son esenciales para una amplia gama de tareas de programación, desde el procesamiento de datos hasta la interacción con el usuario.\n",
    "\n",
    "**En el próximo cuaderno**, abordaremos conceptos avanzados en Python, incluyendo la programación orientada a objetos.\n"
   ]
  },
  {
   "cell_type": "markdown",
   "metadata": {},
   "source": [
    "---"
   ]
  },
  {
   "cell_type": "markdown",
   "metadata": {},
   "source": [
    "# Ejercicios Extra"
   ]
  },
  {
   "cell_type": "markdown",
   "metadata": {},
   "source": [
    "## Problema: Contador de Palabras\n",
    "\n",
    "Escribe una función que cuente el número de palabras en una cadena de texto y devuelva ese número. Considera una palabra como cualquier secuencia de caracteres separada por espacios.\n",
    "\n",
    "**Entrada:**\n",
    "Una cadena de texto.\n",
    "\n",
    "**Salida:**\n",
    "Número de palabras en la cadena.\n",
    "\n",
    "**Ejemplo:**\n",
    "\n",
    "```python\n",
    "contar_palabras(\"El rápido zorro marrón\")  # Debe devolver 4\n",
    "```\n"
   ]
  },
  {
   "cell_type": "code",
   "execution_count": null,
   "metadata": {},
   "outputs": [],
   "source": [
    "# Función a Completar\n",
    "def contar_palabras(texto):\n",
    "    # Tu código aquí\n",
    "    pass\n"
   ]
  },
  {
   "cell_type": "code",
   "execution_count": null,
   "metadata": {},
   "outputs": [],
   "source": [
    "# Código de pruebas\n",
    "\n",
    "assert contar_palabras(\"El rápido zorro marrón\") == 4\n",
    "assert contar_palabras(\"Hola mundo\") == 2\n",
    "assert contar_palabras(\"\") == 0\n"
   ]
  },
  {
   "cell_type": "markdown",
   "metadata": {},
   "source": [
    "## Problema: Inversor de Cadena\n",
    "\n",
    "Escribe una función que tome una cadena de texto y devuelva la cadena en orden inverso.\n",
    "\n",
    "**Entrada:**\n",
    "Una cadena de texto.\n",
    "\n",
    "**Salida:**\n",
    "La cadena de texto invertida.\n",
    "\n",
    "**Ejemplo:**\n",
    "\n",
    "```python\n",
    "invertir_cadena(\"Hola\")  # Debe devolver \"aloH\"\n",
    "```"
   ]
  },
  {
   "cell_type": "code",
   "execution_count": null,
   "metadata": {},
   "outputs": [],
   "source": [
    "# Función a Completar\n",
    "def invertir_cadena(texto):\n",
    "    # Tu código aquí\n",
    "    pass\n"
   ]
  },
  {
   "cell_type": "code",
   "execution_count": null,
   "metadata": {},
   "outputs": [],
   "source": [
    "assert invertir_cadena(\"Hola\") == \"aloH\"\n",
    "assert invertir_cadena(\"Python\") == \"nohtyP\"\n",
    "assert invertir_cadena(\"\") == \"\"\n"
   ]
  },
  {
   "cell_type": "markdown",
   "metadata": {},
   "source": [
    "## Problema: Verificador de Palíndromo\n",
    "\n",
    "Escribe una función que verifique si una cadena de texto es un palíndromo (se lee igual hacia adelante y hacia atrás, ignorando espacios, signos de puntuación y mayúsculas/minúsculas).\n",
    "\n",
    "**Entrada:**\n",
    "Una cadena de texto.\n",
    "\n",
    "**Salida:**\n",
    "Booleano que indica si la cadena es un palíndromo (True) o no (False).\n",
    "\n",
    "**Ejemplo:**\n",
    "\n",
    "```python\n",
    "es_palindromo(\"Anita lava la tina\")  # Debe devolver True\n",
    "```"
   ]
  },
  {
   "cell_type": "code",
   "execution_count": null,
   "metadata": {},
   "outputs": [],
   "source": [
    "# Función a Completar\n",
    "def es_palindromo(texto):\n",
    "    # Tu código aquí\n",
    "    pass\n"
   ]
  },
  {
   "cell_type": "code",
   "execution_count": null,
   "metadata": {},
   "outputs": [],
   "source": [
    "assert es_palindromo(\"Anita lava la tina\") == True\n",
    "assert es_palindromo(\"Hola mundo\") == False\n"
   ]
  },
  {
   "cell_type": "markdown",
   "metadata": {},
   "source": [
    "## Problema: Generador de Fechas Aleatorias\n",
    "\n",
    "Usando la librería `random`, escribe una función que genere una lista de `n` fechas aleatorias dentro de un rango de fechas dado.\n",
    "\n",
    "**Entradas:**\n",
    "- Número de fechas a generar (`n`).\n",
    "- Fecha de inicio (en formato \"AAAA-MM-DD\").\n",
    "- Fecha de fin (en formato \"AAAA-MM-DD\").\n",
    "\n",
    "**Salida:**\n",
    "Lista de fechas aleatorias generadas.\n",
    "\n",
    "**Ejemplo:**\n",
    "```python\n",
    "generar_fechas_aleatorias(3, \"2020-01-01\", \"2020-12-31\")\n",
    "# Ejemplo de salida: ['2020-03-28', '2020-11-19', '2020-09-23']\n",
    "```"
   ]
  },
  {
   "cell_type": "code",
   "execution_count": null,
   "metadata": {},
   "outputs": [],
   "source": [
    "import random\n",
    "import datetime\n",
    "\n",
    "# Función a Completar\n",
    "def generar_fechas_aleatorias(n, inicio, fin):\n",
    "    # Tu código aquí\n",
    "    pass\n"
   ]
  },
  {
   "cell_type": "code",
   "execution_count": null,
   "metadata": {},
   "outputs": [],
   "source": [
    "# Generando y comprobando que las fechas están en el rango\n",
    "fechas = generar_fechas_aleatorias(3, \"2020-01-01\", \"2020-12-31\")\n",
    "for fecha in fechas:\n",
    "    assert \"2020-01-01\" <= fecha <= \"2020-12-31\"\n"
   ]
  }
 ],
 "metadata": {
  "language_info": {
   "name": "python"
  }
 },
 "nbformat": 4,
 "nbformat_minor": 2
}
