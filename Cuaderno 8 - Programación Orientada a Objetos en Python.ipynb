{
 "cells": [
  {
   "cell_type": "markdown",
   "metadata": {},
   "source": [
    "# Introducción a la Programación Orientada a Objetos\n",
    "\n",
    "La Programación Orientada a Objetos (POO) es un paradigma de programación que utiliza objetos y clases para organizar el código de manera estructurada. En Python, todo es un objeto, lo que hace que este paradigma sea muy importante.\n",
    "\n",
    "Conceptos clave:\n",
    "- **Clase**: Plantilla para crear objetos.\n",
    "- **Objeto**: Instancia de una clase.\n",
    "- **Atributo**: Característica de un objeto.\n",
    "- **Método**: Función que pertenece a un objeto.\n"
   ]
  },
  {
   "cell_type": "markdown",
   "metadata": {},
   "source": [
    "# Definición de Clases y Creación de Objetos\n",
    "\n",
    "Una clase se define utilizando la palabra clave `class`, y puede tener atributos y métodos. Los objetos son instancias de una clase.\n",
    "\n",
    "Ejemplo de una clase simple:\n"
   ]
  },
  {
   "cell_type": "code",
   "execution_count": null,
   "metadata": {},
   "outputs": [],
   "source": [
    "# Definición de la clase\n",
    "class Auto:\n",
    "    def __init__(self, marca, modelo):\n",
    "        self.marca = marca\n",
    "        self.modelo = modelo\n",
    "\n",
    "    def mostrar_informacion(self):\n",
    "        print(f\"Marca: {self.marca}, Modelo: {self.modelo}\")\n",
    "\n",
    "# Creación de un objeto\n",
    "mi_auto = Auto(\"Toyota\", \"Corolla\")\n",
    "mi_auto.mostrar_informacion()\n"
   ]
  },
  {
   "cell_type": "markdown",
   "metadata": {},
   "source": [
    "# Herencia\n",
    "\n",
    "La herencia permite a una clase heredar atributos y métodos de otra. Esto facilita la reutilización del código y la creación de jerarquías de clases.\n",
    "\n",
    "Ejemplo de herencia:\n"
   ]
  },
  {
   "cell_type": "code",
   "execution_count": null,
   "metadata": {},
   "outputs": [],
   "source": [
    "# Clase base\n",
    "class Vehiculo:\n",
    "    def __init__(self, marca):\n",
    "        self.marca = marca\n",
    "\n",
    "# Clase derivada\n",
    "class Bicicleta(Vehiculo):\n",
    "    def __init__(self, marca, tipo):\n",
    "        super().__init__(marca)\n",
    "        self.tipo = tipo\n",
    "\n",
    "# Uso de la clase derivada\n",
    "mi_bici = Bicicleta(\"Trek\", \"Montaña\")\n",
    "print(f\"Marca: {mi_bici.marca}, Tipo: {mi_bici.tipo}\")\n"
   ]
  },
  {
   "cell_type": "markdown",
   "metadata": {},
   "source": [
    "# Encapsulamiento, Polimorfismo y Abstracción\n",
    "\n",
    "- **Encapsulamiento**: Oculta los detalles internos de la clase y expone solo lo necesario.\n",
    "- **Polimorfismo**: Permite que diferentes clases tengan métodos con el mismo nombre y comportamiento.\n",
    "- **Abstracción**: Enfocarse en lo que hace un objeto, en lugar de cómo lo hace. Simplificar la realidad.\n",
    "\n",
    "Ejemplo de encapsulamiento y polimorfismo:\n"
   ]
  },
  {
   "cell_type": "code",
   "execution_count": null,
   "metadata": {},
   "outputs": [],
   "source": [
    "# Clases con polimorfismo\n",
    "class Perro:\n",
    "    def hablar(self):\n",
    "        return \"Guau!\"\n",
    "\n",
    "class Gato:\n",
    "    def hablar(self):\n",
    "        return \"Miau!\"\n",
    "\n",
    "# Función que demuestra polimorfismo\n",
    "def hacer_hablar(animal):\n",
    "    print(animal.hablar())\n",
    "\n",
    "# Uso de las clases\n",
    "mi_perro = Perro()\n",
    "mi_gato = Gato()\n",
    "hacer_hablar(mi_perro)\n",
    "hacer_hablar(mi_gato)\n"
   ]
  },
  {
   "cell_type": "markdown",
   "metadata": {},
   "source": [
    "# Ejercicios Prácticos\n",
    "\n",
    "1. Crea una clase `Libro` con atributos para título, autor y número de páginas. Incluye un método que muestre esta información.\n",
    "\n",
    "2. Diseña una clase `Circulo` que tenga un atributo de radio y dos métodos: uno para calcular el área y otro el perímetro. Usa la librería `math` para los cálculos.\n"
   ]
  },
  {
   "cell_type": "code",
   "execution_count": null,
   "metadata": {},
   "outputs": [],
   "source": [
    "# Espacio para el ejercicio 1\n",
    "\n"
   ]
  },
  {
   "cell_type": "code",
   "execution_count": null,
   "metadata": {},
   "outputs": [],
   "source": [
    "# Espacio para el ejercicio 2\n",
    "\n"
   ]
  },
  {
   "cell_type": "markdown",
   "metadata": {},
   "source": [
    "# Resumen\n",
    "\n",
    "En este cuaderno, has aprendido los conceptos fundamentales de la Programación Orientada a Objetos en Python, incluyendo clases, objetos, herencia, encapsulamiento, polimorfismo y abstracción."
   ]
  },
  {
   "cell_type": "markdown",
   "metadata": {},
   "source": []
  },
  {
   "cell_type": "markdown",
   "metadata": {},
   "source": [
    "---"
   ]
  },
  {
   "cell_type": "markdown",
   "metadata": {},
   "source": [
    "## Problema: Clase de un Producto\n",
    "\n",
    "Escribe una clase `Producto` que represente un producto en un inventario. La clase debe tener atributos `nombre`, `cantidad` y `precio`. Implementa un método `precio_total()` que devuelva el precio total del producto (cantidad * precio).\n",
    "\n",
    "**Ejemplo:**\n",
    "\n",
    "```python\n",
    "# Creando y usando la clase Producto\n",
    "producto = Producto(\"Lápiz\", 3, 1.50)\n",
    "print(producto.precio_total())  # Debe devolver 4.5\n",
    "```\n"
   ]
  },
  {
   "cell_type": "code",
   "execution_count": null,
   "metadata": {},
   "outputs": [],
   "source": [
    "# Clase Producto\n",
    "class Producto:\n",
    "    def __init__(self, nombre, cantidad, precio):\n",
    "        # Tu código aquí\n",
    "        pass\n",
    "\n",
    "    def precio_total(self):\n",
    "        # Tu código aquí\n",
    "        pass\n"
   ]
  },
  {
   "cell_type": "code",
   "execution_count": null,
   "metadata": {},
   "outputs": [],
   "source": [
    "producto = Producto(\"Lápiz\", 3, 1.50)\n",
    "assert producto.precio_total() == 4.5\n"
   ]
  },
  {
   "cell_type": "markdown",
   "metadata": {},
   "source": [
    "## Problema: Clase para Administrar una Biblioteca\n",
    "\n",
    "Diseña una clase `Biblioteca` que pueda almacenar libros y permita añadir y quitar libros. Un libro estará representado como una instancia de la clase `Libro`, que contiene `titulo` y `autor`.\n",
    "\n",
    "**Ejemplo:**\n",
    "```python\n",
    "# Uso de la clase Biblioteca\n",
    "biblioteca = Biblioteca()\n",
    "biblioteca.añadir_libro(Libro(\"1984\", \"George Orwell\"))\n",
    "print(biblioteca.listar_libros())  # Debe mostrar los detalles del libro añadido\n",
    "\n",
    "```"
   ]
  },
  {
   "cell_type": "code",
   "execution_count": null,
   "metadata": {},
   "outputs": [],
   "source": [
    "# Clases Libro y Biblioteca\n",
    "class Libro:\n",
    "    def __init__(self, titulo, autor):\n",
    "        # Tu código aquí\n",
    "        pass\n",
    "\n",
    "class Biblioteca:\n",
    "    def __init__(self):\n",
    "        # Tu código aquí\n",
    "        pass\n",
    "\n",
    "    def añadir_libro(self, libro):\n",
    "        # Tu código aquí\n",
    "        pass\n",
    "\n",
    "    def listar_libros(self):\n",
    "        # Tu código aquí\n",
    "        pass\n"
   ]
  },
  {
   "cell_type": "code",
   "execution_count": null,
   "metadata": {},
   "outputs": [],
   "source": [
    "biblioteca = Biblioteca()\n",
    "libro = Libro(\"1984\", \"George Orwell\")\n",
    "biblioteca.añadir_libro(libro)\n",
    "assert len(biblioteca.listar_libros()) == 1  # Asegura que hay un libro en la biblioteca\n"
   ]
  },
  {
   "cell_type": "markdown",
   "metadata": {},
   "source": [
    "## Problema: Sistema de Gestión de Empleados\n",
    "\n",
    "Crea un sistema de gestión de empleados donde puedas añadir nuevos empleados, eliminarlos y buscarlos por nombre. Cada empleado debe ser una instancia de la clase `Empleado`, con atributos `nombre`, `id` y `departamento`.\n",
    "\n",
    "**Ejemplo:**\n",
    "```python\n",
    "# Uso del sistema de gestión\n",
    "sistema = SistemaGestion()\n",
    "sistema.añadir_empleado(Empleado(\"Alice\", 123, \"Recursos Humanos\"))\n",
    "sistema.eliminar_empleado(123)  # Elimina a Alice del sistema\n",
    "print(sistema.buscar_empleado(\"Alice\"))  # Debe devolver None o un mensaje indicando que no se encontró\n",
    "\n",
    "```"
   ]
  },
  {
   "cell_type": "code",
   "execution_count": null,
   "metadata": {},
   "outputs": [],
   "source": [
    "# Clases Empleado y SistemaGestion\n",
    "class Empleado:\n",
    "    def __init__(self, nombre, id, departamento):\n",
    "        # Tu código aquí\n",
    "        pass\n",
    "\n",
    "class SistemaGestion:\n",
    "    def __init__(self):\n",
    "        # Tu código aquí\n",
    "        pass\n",
    "\n",
    "    def añadir_empleado(self, empleado):\n",
    "        # Tu código aquí\n",
    "        pass\n",
    "\n",
    "    def eliminar_empleado(self, id):\n",
    "        # Tu código aquí\n",
    "        pass\n",
    "\n",
    "    def buscar_empleado(self, nombre):\n",
    "        # Tu código aquí\n",
    "        pass\n"
   ]
  },
  {
   "cell_type": "code",
   "execution_count": null,
   "metadata": {},
   "outputs": [],
   "source": [
    "sistema = SistemaGestion()\n",
    "\n",
    "empleado = Empleado(\"Alice\", 123, \"Recursos Humanos\")\n",
    "sistema.añadir_empleado(empleado)\n",
    "sistema.eliminar_empleado(123)\n",
    "assert sistema.buscar_empleado(\"Alice\") is None\n",
    "\n",
    "empleado2 = Empleado(\"Juan\", 321, \"TI\")\n",
    "sistema.añadir_empleado(empleado2)\n",
    "assert sistema.buscar_empleado(\"Juan\").id == 321"
   ]
  }
 ],
 "metadata": {
  "language_info": {
   "name": "python"
  }
 },
 "nbformat": 4,
 "nbformat_minor": 2
}
