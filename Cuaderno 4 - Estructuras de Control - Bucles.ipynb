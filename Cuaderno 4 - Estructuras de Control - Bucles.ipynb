{
 "cells": [
  {
   "cell_type": "markdown",
   "metadata": {},
   "source": [
    "# Introducción al Bucle `while`\n",
    "\n",
    "El bucle `while` en Python permite ejecutar un conjunto de instrucciones mientras una condición sea verdadera. \n",
    "\n",
    "Ejemplo básico:"
   ]
  },
  {
   "cell_type": "code",
   "execution_count": null,
   "metadata": {},
   "outputs": [],
   "source": [
    "# Ejemplo de Bucle while\n",
    "contador = 0\n",
    "while contador < 5:\n",
    "    print(contador)\n",
    "    contador += 1\n"
   ]
  },
  {
   "cell_type": "markdown",
   "metadata": {},
   "source": [
    "# Uso de `break` y `continue`\n",
    "\n",
    "- `break`: Sale del bucle inmediatamente, sin importar la condición del bucle.\n",
    "- `continue`: Omite el resto del código dentro del bucle y vuelve al principio.\n",
    "\n",
    "Ejemplo con `break` y `continue`:"
   ]
  },
  {
   "cell_type": "code",
   "execution_count": null,
   "metadata": {},
   "outputs": [],
   "source": [
    "# Ejemplo con break y continue\n",
    "contador = 0\n",
    "while contador < 10:\n",
    "    contador += 1\n",
    "    if contador == 5:\n",
    "        continue\n",
    "    if contador == 8:\n",
    "        break\n",
    "    print(contador)"
   ]
  },
  {
   "cell_type": "markdown",
   "metadata": {},
   "source": [
    "# Introducción al Bucle `for`\n",
    "\n",
    "El bucle `for` en Python se utiliza para iterar sobre una secuencia (que puede ser una lista, una tupla, un diccionario, un conjunto o una cadena).\n",
    "\n",
    "Ejemplo con una lista:"
   ]
  },
  {
   "cell_type": "code",
   "execution_count": null,
   "metadata": {},
   "outputs": [],
   "source": [
    "# Ejemplo de Bucle for\n",
    "frutas = [\"manzana\", \"banana\", \"cereza\"]\n",
    "for fruta in frutas:\n",
    "    print(fruta)"
   ]
  },
  {
   "cell_type": "markdown",
   "metadata": {},
   "source": [
    "# Función `range()`\n",
    "\n",
    "La función `range()` se utiliza para generar secuencias de números, y es comúnmente usada en bucles `for`.\n",
    "\n",
    "Ejemplo:"
   ]
  },
  {
   "cell_type": "markdown",
   "metadata": {},
   "source": [
    "# Ejemplo de range()\n",
    "for i in range(5):\n",
    "    print(i)"
   ]
  },
  {
   "cell_type": "markdown",
   "metadata": {},
   "source": [
    "# Ejercicios Prácticos\n",
    "\n",
    "1. Escribe un bucle `while` que cuente de 10 a 1 y luego imprima \"¡Despegue!\".\n",
    "\n",
    "2. Escribe un bucle `for` que itere sobre una lista de tu elección e imprima cada elemento."
   ]
  },
  {
   "cell_type": "code",
   "execution_count": null,
   "metadata": {},
   "outputs": [],
   "source": [
    "# Espacio para el ejercicio 1\n",
    "\n"
   ]
  },
  {
   "cell_type": "code",
   "execution_count": null,
   "metadata": {},
   "outputs": [],
   "source": [
    "# Espacio para el ejercicio 2\n",
    "\n"
   ]
  },
  {
   "cell_type": "markdown",
   "metadata": {},
   "source": [
    "# Resumen\n",
    "\n",
    "En este cuaderno, has aprendido sobre los bucles `while` y `for` en Python. Estos bucles son herramientas poderosas para realizar tareas repetitivas en la programación. Hemos visto cómo controlar el flujo de estos bucles usando `break` y `continue`, y cómo generar secuencias numéricas con la función `range()`.\n",
    "\n",
    "**En el próximo cuaderno**, exploraremos las colecciones en Python, comenzando con las listas y los diccionarios.\n"
   ]
  },
  {
   "cell_type": "markdown",
   "metadata": {},
   "source": [
    "---"
   ]
  },
  {
   "cell_type": "markdown",
   "metadata": {},
   "source": [
    "# Ejercicios extra"
   ]
  },
  {
   "cell_type": "markdown",
   "metadata": {},
   "source": [
    "## Problema: Cálculo de Interés Compuesto\n",
    "\n",
    "Supongamos que has invertido una cantidad de dinero en un plan de ahorros que te ofrece un interés compuesto anual. Escribe un programa que calcule cuánto dinero tendrás en tu cuenta cada año durante 5 años.\n",
    "\n",
    "Utiliza un bucle `for` para iterar cada año. La fórmula del interés compuesto es A = P(1 + r/n)^(nt), donde:\n",
    "- P es el capital inicial (por ejemplo, 1000 soles).\n",
    "- r es la tasa de interés anual (por ejemplo, 4% o 0.04).\n",
    "- n es el número de veces que el interés se compone por año (por ejemplo, 1 si es anual).\n",
    "- t es el tiempo en años.\n",
    "- A es el monto acumulado después de t años, incluyendo el interés.\n",
    "\n",
    "**Nota:** Si tienes problemas con el concepto de interés compuesto y cómo plantear tu solución, visita la sección al final de éste cuaderno para que te apoyes"
   ]
  },
  {
   "cell_type": "code",
   "execution_count": null,
   "metadata": {},
   "outputs": [],
   "source": [
    "# Escribe tu código aquí\n"
   ]
  },
  {
   "cell_type": "markdown",
   "metadata": {},
   "source": [
    "## Problema: Juego de Adivinanzas\n",
    "\n",
    "Escribe un programa que genere un número aleatorio entre 1 y 20, y pida al usuario adivinar el número. Dale al usuario un máximo de cinco intentos, y si no adivina el número en esos intentos, muestra un mensaje de derrota.\n",
    "\n",
    "Utiliza un bucle `while` y asegúrate de dar pistas si la adivinanza es demasiado alta o demasiado baja.\n"
   ]
  },
  {
   "cell_type": "code",
   "execution_count": null,
   "metadata": {},
   "outputs": [],
   "source": [
    "# Escribe tu código aquí\n"
   ]
  },
  {
   "cell_type": "markdown",
   "metadata": {},
   "source": [
    "## Problema: Generación de un Triángulo de Números\n",
    "\n",
    "Escribe un programa que imprima un triángulo de números. El usuario debe ingresar la altura del triángulo, y el programa debe imprimir filas de números, donde cada fila contiene números incrementales hasta el número de esa fila.\n",
    "\n",
    "Por ejemplo, para una altura de 5, el triángulo sería:\n",
    "```generic\n",
    "1\n",
    "1 2\n",
    "1 2 3\n",
    "1 2 3 4\n",
    "1 2 3 4 5\n",
    "```\n",
    "Utiliza bucles `for` anidados para lograr esto.\n"
   ]
  },
  {
   "cell_type": "code",
   "execution_count": null,
   "metadata": {},
   "outputs": [],
   "source": [
    "# Escribe tu código aquí\n"
   ]
  },
  {
   "cell_type": "markdown",
   "metadata": {},
   "source": [
    "# Problema: Generación de una Pirámide de Números\n",
    "\n",
    "Escribe un programa que imprima una pirámide de números. El usuario debe ingresar la altura de la pirámide, y el programa debe imprimir filas de números, donde cada fila contiene números incrementales hasta el número de esa fila.\n",
    "\n",
    "```generic\n",
    "        1\n",
    "      1 2 1\n",
    "    1 2 3 2 1\n",
    "  1 2 3 4 3 2 1\n",
    "1 2 3 4 5 4 3 2 1\n",
    "```\n",
    "Utiliza bucles `for` anidados para lograr esto.\n"
   ]
  },
  {
   "cell_type": "code",
   "execution_count": null,
   "metadata": {},
   "outputs": [],
   "source": [
    "# Escribe tu código aquí\n"
   ]
  },
  {
   "cell_type": "markdown",
   "metadata": {},
   "source": [
    "---"
   ]
  },
  {
   "cell_type": "markdown",
   "metadata": {},
   "source": [
    "### Directrices para el Cálculo de Interés Compuesto\n",
    "\n",
    "**Paso 1: Entender el Problema**\n",
    "- El objetivo es calcular cuánto dinero tendrás en tu cuenta cada año durante 5 años, dado un interés compuesto anual.\n",
    "- Asegúrate de entender la fórmula del interés compuesto:\n",
    "  $$ A = P \\left(1 + \\frac{r}{n}\\right)^{nt} $$\n",
    "- En Python:  `A = P(1 + r/n)^(nt)`\n",
    "\n",
    "**Paso 2: Definir las Variables**\n",
    "- Identifica y define las variables necesarias:\n",
    "  - `P` para el capital inicial.\n",
    "  - `r` para la tasa de interés anual (como decimal).\n",
    "  - `n` para el número de veces que el interés se compone por año.\n",
    "  - `t` para el tiempo en años.\n",
    "  - `A` para el monto acumulado después de `t` años.\n",
    "\n",
    "**Paso 3: Solicitar Datos de Entrada**\n",
    "- Pide al usuario que ingrese el capital inicial, la tasa de interés anual y el número de veces que el interés se compone por año.\n",
    "\n",
    "**Paso 4: Implementar el Bucle**\n",
    "- Utiliza un bucle `for` para iterar a través de cada año (hasta 5 años).\n",
    "- Dentro del bucle, calcula el monto acumulado (`A`) utilizando la fórmula.\n",
    "- Imprime el monto acumulado para cada año.\n",
    "\n",
    "**Paso 5: Cálculo del Interés Compuesto**\n",
    "- En cada iteración del bucle, actualiza el valor de `t` (el año actual en el bucle).\n",
    "- Aplica la fórmula del interés compuesto para calcular `A`.\n",
    "\n",
    "**Paso 6: Imprimir Resultados**\n",
    "- Después de calcular `A` para cada año, imprime el resultado de manera que sea fácil de entender para el usuario.\n",
    "- Por ejemplo: \"Año 1: $[monto]$\", \"Año 2: $[monto]$\", etc.\n",
    "\n",
    "**Paso 7: Verificación y Pruebas**\n",
    "- Verifica tu programa con valores conocidos para asegurarte de que el cálculo es correcto.\n",
    "- Prueba el programa con diferentes valores de entrada para ver cómo cambian los resultados.\n"
   ]
  }
 ],
 "metadata": {
  "language_info": {
   "name": "python"
  }
 },
 "nbformat": 4,
 "nbformat_minor": 2
}
